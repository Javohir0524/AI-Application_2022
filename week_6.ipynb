{
  "nbformat": 4,
  "nbformat_minor": 0,
  "metadata": {
    "colab": {
      "provenance": []
    },
    "kernelspec": {
      "name": "python3",
      "display_name": "Python 3"
    },
    "language_info": {
      "name": "python"
    }
  },
  "cells": [
    {
      "cell_type": "code",
      "execution_count": 1,
      "metadata": {
        "colab": {
          "base_uri": "https://localhost:8080/",
          "height": 1000
        },
        "id": "fUHbp1zx796L",
        "outputId": "309af9a3-9222-4a54-d43b-11c9e0dca556"
      },
      "outputs": [
        {
          "output_type": "stream",
          "name": "stdout",
          "text": [
            "Looking in indexes: https://pypi.org/simple, https://us-python.pkg.dev/colab-wheels/public/simple/\n",
            "Collecting tensorflow==1.15.5\n",
            "  Downloading tensorflow-1.15.5-cp37-cp37m-manylinux2010_x86_64.whl (110.5 MB)\n",
            "\u001b[K     |████████████████████████████████| 110.5 MB 1.2 kB/s \n",
            "\u001b[?25hCollecting tensorflow-estimator==1.15.1\n",
            "  Downloading tensorflow_estimator-1.15.1-py2.py3-none-any.whl (503 kB)\n",
            "\u001b[K     |████████████████████████████████| 503 kB 60.6 MB/s \n",
            "\u001b[?25hRequirement already satisfied: six>=1.10.0 in /usr/local/lib/python3.7/dist-packages (from tensorflow==1.15.5) (1.15.0)\n",
            "Requirement already satisfied: absl-py>=0.7.0 in /usr/local/lib/python3.7/dist-packages (from tensorflow==1.15.5) (1.2.0)\n",
            "Requirement already satisfied: termcolor>=1.1.0 in /usr/local/lib/python3.7/dist-packages (from tensorflow==1.15.5) (2.0.1)\n",
            "Requirement already satisfied: astor>=0.6.0 in /usr/local/lib/python3.7/dist-packages (from tensorflow==1.15.5) (0.8.1)\n",
            "Collecting h5py<=2.10.0\n",
            "  Downloading h5py-2.10.0-cp37-cp37m-manylinux1_x86_64.whl (2.9 MB)\n",
            "\u001b[K     |████████████████████████████████| 2.9 MB 49.1 MB/s \n",
            "\u001b[?25hCollecting numpy<1.19.0,>=1.16.0\n",
            "  Downloading numpy-1.18.5-cp37-cp37m-manylinux1_x86_64.whl (20.1 MB)\n",
            "\u001b[K     |████████████████████████████████| 20.1 MB 1.3 MB/s \n",
            "\u001b[?25hCollecting gast==0.2.2\n",
            "  Downloading gast-0.2.2.tar.gz (10 kB)\n",
            "Collecting keras-applications>=1.0.8\n",
            "  Downloading Keras_Applications-1.0.8-py3-none-any.whl (50 kB)\n",
            "\u001b[K     |████████████████████████████████| 50 kB 4.9 MB/s \n",
            "\u001b[?25hCollecting tensorboard<1.16.0,>=1.15.0\n",
            "  Downloading tensorboard-1.15.0-py3-none-any.whl (3.8 MB)\n",
            "\u001b[K     |████████████████████████████████| 3.8 MB 42.3 MB/s \n",
            "\u001b[?25hRequirement already satisfied: keras-preprocessing>=1.0.5 in /usr/local/lib/python3.7/dist-packages (from tensorflow==1.15.5) (1.1.2)\n",
            "Requirement already satisfied: wrapt>=1.11.1 in /usr/local/lib/python3.7/dist-packages (from tensorflow==1.15.5) (1.14.1)\n",
            "Requirement already satisfied: google-pasta>=0.1.6 in /usr/local/lib/python3.7/dist-packages (from tensorflow==1.15.5) (0.2.0)\n",
            "Requirement already satisfied: grpcio>=1.8.6 in /usr/local/lib/python3.7/dist-packages (from tensorflow==1.15.5) (1.49.1)\n",
            "Requirement already satisfied: protobuf>=3.6.1 in /usr/local/lib/python3.7/dist-packages (from tensorflow==1.15.5) (3.17.3)\n",
            "Requirement already satisfied: opt-einsum>=2.3.2 in /usr/local/lib/python3.7/dist-packages (from tensorflow==1.15.5) (3.3.0)\n",
            "Requirement already satisfied: wheel>=0.26 in /usr/local/lib/python3.7/dist-packages (from tensorflow==1.15.5) (0.37.1)\n",
            "Requirement already satisfied: setuptools>=41.0.0 in /usr/local/lib/python3.7/dist-packages (from tensorboard<1.16.0,>=1.15.0->tensorflow==1.15.5) (57.4.0)\n",
            "Requirement already satisfied: werkzeug>=0.11.15 in /usr/local/lib/python3.7/dist-packages (from tensorboard<1.16.0,>=1.15.0->tensorflow==1.15.5) (1.0.1)\n",
            "Requirement already satisfied: markdown>=2.6.8 in /usr/local/lib/python3.7/dist-packages (from tensorboard<1.16.0,>=1.15.0->tensorflow==1.15.5) (3.4.1)\n",
            "Requirement already satisfied: importlib-metadata>=4.4 in /usr/local/lib/python3.7/dist-packages (from markdown>=2.6.8->tensorboard<1.16.0,>=1.15.0->tensorflow==1.15.5) (5.0.0)\n",
            "Requirement already satisfied: zipp>=0.5 in /usr/local/lib/python3.7/dist-packages (from importlib-metadata>=4.4->markdown>=2.6.8->tensorboard<1.16.0,>=1.15.0->tensorflow==1.15.5) (3.9.0)\n",
            "Requirement already satisfied: typing-extensions>=3.6.4 in /usr/local/lib/python3.7/dist-packages (from importlib-metadata>=4.4->markdown>=2.6.8->tensorboard<1.16.0,>=1.15.0->tensorflow==1.15.5) (4.1.1)\n",
            "Building wheels for collected packages: gast\n",
            "  Building wheel for gast (setup.py) ... \u001b[?25l\u001b[?25hdone\n",
            "  Created wheel for gast: filename=gast-0.2.2-py3-none-any.whl size=7554 sha256=cd6606d3d4ce55e975e997588223aebacbb4bbd0e52166094c7b37498dc79eb5\n",
            "  Stored in directory: /root/.cache/pip/wheels/21/7f/02/420f32a803f7d0967b48dd823da3f558c5166991bfd204eef3\n",
            "Successfully built gast\n",
            "Installing collected packages: numpy, h5py, tensorflow-estimator, tensorboard, keras-applications, gast, tensorflow\n",
            "  Attempting uninstall: numpy\n",
            "    Found existing installation: numpy 1.21.6\n",
            "    Uninstalling numpy-1.21.6:\n",
            "      Successfully uninstalled numpy-1.21.6\n",
            "  Attempting uninstall: h5py\n",
            "    Found existing installation: h5py 3.1.0\n",
            "    Uninstalling h5py-3.1.0:\n",
            "      Successfully uninstalled h5py-3.1.0\n",
            "  Attempting uninstall: tensorflow-estimator\n",
            "    Found existing installation: tensorflow-estimator 2.9.0\n",
            "    Uninstalling tensorflow-estimator-2.9.0:\n",
            "      Successfully uninstalled tensorflow-estimator-2.9.0\n",
            "  Attempting uninstall: tensorboard\n",
            "    Found existing installation: tensorboard 2.9.1\n",
            "    Uninstalling tensorboard-2.9.1:\n",
            "      Successfully uninstalled tensorboard-2.9.1\n",
            "  Attempting uninstall: gast\n",
            "    Found existing installation: gast 0.4.0\n",
            "    Uninstalling gast-0.4.0:\n",
            "      Successfully uninstalled gast-0.4.0\n",
            "  Attempting uninstall: tensorflow\n",
            "    Found existing installation: tensorflow 2.9.2\n",
            "    Uninstalling tensorflow-2.9.2:\n",
            "      Successfully uninstalled tensorflow-2.9.2\n",
            "\u001b[31mERROR: pip's dependency resolver does not currently take into account all the packages that are installed. This behaviour is the source of the following dependency conflicts.\n",
            "xarray-einstats 0.2.2 requires numpy>=1.21, but you have numpy 1.18.5 which is incompatible.\n",
            "tensorflow-probability 0.16.0 requires gast>=0.3.2, but you have gast 0.2.2 which is incompatible.\n",
            "tables 3.7.0 requires numpy>=1.19.0, but you have numpy 1.18.5 which is incompatible.\n",
            "plotnine 0.8.0 requires numpy>=1.19.0, but you have numpy 1.18.5 which is incompatible.\n",
            "kapre 0.3.7 requires tensorflow>=2.0.0, but you have tensorflow 1.15.5 which is incompatible.\n",
            "jaxlib 0.3.20+cuda11.cudnn805 requires numpy>=1.20, but you have numpy 1.18.5 which is incompatible.\n",
            "jax 0.3.21 requires numpy>=1.20, but you have numpy 1.18.5 which is incompatible.\n",
            "cmdstanpy 1.0.7 requires numpy>=1.21, but you have numpy 1.18.5 which is incompatible.\u001b[0m\n",
            "Successfully installed gast-0.2.2 h5py-2.10.0 keras-applications-1.0.8 numpy-1.18.5 tensorboard-1.15.0 tensorflow-1.15.5 tensorflow-estimator-1.15.1\n"
          ]
        },
        {
          "output_type": "display_data",
          "data": {
            "application/vnd.colab-display-data+json": {
              "pip_warning": {
                "packages": [
                  "numpy"
                ]
              }
            }
          },
          "metadata": {}
        }
      ],
      "source": [
        "pip install tensorflow==1.15.5"
      ]
    },
    {
      "cell_type": "code",
      "source": [
        "import numpy as np\n",
        "import tensorflow as tf\n",
        "import matplotlib.pyplot as plt"
      ],
      "metadata": {
        "id": "eC7YPh7I8EM1"
      },
      "execution_count": 1,
      "outputs": []
    },
    {
      "cell_type": "code",
      "source": [
        "learning_parameter = 0.01\n",
        "epochs = 300"
      ],
      "metadata": {
        "id": "cDOSEZK18FEM"
      },
      "execution_count": 2,
      "outputs": []
    },
    {
      "cell_type": "code",
      "source": [
        "sample_points=50\n",
        "x_train=np.linspace(0,30,sample_points)\n",
        "y_train=6*x_train+7*np.random.randn(sample_points)"
      ],
      "metadata": {
        "id": "_q3M15P88Hwz"
      },
      "execution_count": 3,
      "outputs": []
    },
    {
      "cell_type": "code",
      "source": [
        "plt.plot(x_train, y_train, 'o')\n",
        "plt.plot(x_train, 6*x_train)\n",
        "plt.show()"
      ],
      "metadata": {
        "colab": {
          "base_uri": "https://localhost:8080/",
          "height": 265
        },
        "id": "EVVxWWgM8KA6",
        "outputId": "4596f643-9e3d-4150-8db3-7e1f3d48fa60"
      },
      "execution_count": 4,
      "outputs": [
        {
          "output_type": "display_data",
          "data": {
            "text/plain": [
              "<Figure size 432x288 with 1 Axes>"
            ],
            "image/png": "[encoded data removed]"
          },
          "metadata": {
            "needs_background": "light"
          }
        }
      ]
    },
    {
      "cell_type": "code",
      "source": [
        "Y = tf.placeholder(tf.float32)\n",
        "X = tf.placeholder(tf.float32)\n",
        "\n",
        "W=tf.Variable(np.random.randn(), name='weights')\n",
        "B=tf.Variable(np.random.randn(), name='bias')"
      ],
      "metadata": {
        "id": "m50OHV7Q8L1i"
      },
      "execution_count": 5,
      "outputs": []
    },
    {
      "cell_type": "code",
      "source": [
        "prediction=W*X+B\n",
        "cost_iteration=tf.reduce_sum((prediction-Y)**2)/(2*sample_points)\n",
        "optimizer=tf.train.GradientDescentOptimizer(learning_parameter).minimize(cost_iteration)\n",
        "init=tf.global_variables_initializer()"
      ],
      "metadata": {
        "colab": {
          "base_uri": "https://localhost:8080/"
        },
        "id": "v3JT5jVx8L77",
        "outputId": "66d475a8-d180-4c97-e3da-fda26b205bf8"
      },
      "execution_count": 6,
      "outputs": [
        {
          "output_type": "stream",
          "name": "stderr",
          "text": [
            "WARNING:tensorflow:From /usr/local/lib/python3.7/dist-packages/tensorflow_core/python/ops/math_grad.py:1375: where (from tensorflow.python.ops.array_ops) is deprecated and will be removed in a future version.\n",
            "Instructions for updating:\n",
            "Use tf.where in 2.0, which has the same broadcast rule as np.where\n"
          ]
        }
      ]
    },
    {
      "cell_type": "code",
      "source": [
        "with tf.Session() as sess:\n",
        "  sess.run(init)\n",
        "  for epoch in range(epochs):\n",
        "    for x, y in zip(x_train, y_train):\n",
        "      if not epoch%40:\n",
        "        W1=sess.run(W)\n",
        "        B1=sess.run(B)\n",
        "        cost_iter=sess.run(cost_iteration, feed_dict={X:x, Y:y})\n",
        "        print('Epochs %f Cost %f Weight %f Bias %f' %(epoch, cost_iter, W1, B1))\n",
        "  Weight=sess.run(W)\n",
        "  Bias=sess.run(B)\n",
        "\n",
        "  plt.plot(x_train, y_train, 'o')\n",
        "  plt.plot(x_train, Weight*x_train+Bias)\n",
        "  plt.show()"
      ],
      "metadata": {
        "colab": {
          "base_uri": "https://localhost:8080/",
          "height": 1000
        },
        "id": "6dShtY8d8RGb",
        "outputId": "8ef5931c-07ca-4426-9ae4-eabd68c4da98"
      },
      "execution_count": 7,
      "outputs": [
        {
          "output_type": "stream",
          "name": "stdout",
          "text": [
            "Epochs 0.000000 Cost 0.786783 Weight -0.406435 Bias 0.049553\n",
            "Epochs 0.000000 Cost 1.456002 Weight -0.406435 Bias 0.049553\n",
            "Epochs 0.000000 Cost 0.000062 Weight -0.406435 Bias 0.049553\n",
            "Epochs 0.000000 Cost 0.168565 Weight -0.406435 Bias 0.049553\n",
            "Epochs 0.000000 Cost 4.743744 Weight -0.406435 Bias 0.049553\n",
            "Epochs 0.000000 Cost 1.794435 Weight -0.406435 Bias 0.049553\n",
            "Epochs 0.000000 Cost 1.616195 Weight -0.406435 Bias 0.049553\n",
            "Epochs 0.000000 Cost 5.751642 Weight -0.406435 Bias 0.049553\n",
            "Epochs 0.000000 Cost 6.110919 Weight -0.406435 Bias 0.049553\n",
            "Epochs 0.000000 Cost 18.654095 Weight -0.406435 Bias 0.049553\n",
            "Epochs 0.000000 Cost 14.155077 Weight -0.406435 Bias 0.049553\n",
            "Epochs 0.000000 Cost 30.293671 Weight -0.406435 Bias 0.049553\n",
            "Epochs 0.000000 Cost 13.748062 Weight -0.406435 Bias 0.049553\n",
            "Epochs 0.000000 Cost 32.645702 Weight -0.406435 Bias 0.049553\n",
            "Epochs 0.000000 Cost 39.274158 Weight -0.406435 Bias 0.049553\n",
            "Epochs 0.000000 Cost 35.812634 Weight -0.406435 Bias 0.049553\n",
            "Epochs 0.000000 Cost 35.081970 Weight -0.406435 Bias 0.049553\n",
            "Epochs 0.000000 Cost 38.082783 Weight -0.406435 Bias 0.049553\n",
            "Epochs 0.000000 Cost 56.978531 Weight -0.406435 Bias 0.049553\n",
            "Epochs 0.000000 Cost 48.820705 Weight -0.406435 Bias 0.049553\n",
            "Epochs 0.000000 Cost 65.081436 Weight -0.406435 Bias 0.049553\n",
            "Epochs 0.000000 Cost 49.752888 Weight -0.406435 Bias 0.049553\n",
            "Epochs 0.000000 Cost 71.360031 Weight -0.406435 Bias 0.049553\n",
            "Epochs 0.000000 Cost 96.304810 Weight -0.406435 Bias 0.049553\n",
            "Epochs 0.000000 Cost 84.107002 Weight -0.406435 Bias 0.049553\n",
            "Epochs 0.000000 Cost 100.424767 Weight -0.406435 Bias 0.049553\n",
            "Epochs 0.000000 Cost 104.509361 Weight -0.406435 Bias 0.049553\n",
            "Epochs 0.000000 Cost 78.503311 Weight -0.406435 Bias 0.049553\n",
            "Epochs 0.000000 Cost 124.069069 Weight -0.406435 Bias 0.049553\n",
            "Epochs 0.000000 Cost 149.100571 Weight -0.406435 Bias 0.049553\n",
            "Epochs 0.000000 Cost 140.729004 Weight -0.406435 Bias 0.049553\n",
            "Epochs 0.000000 Cost 152.344452 Weight -0.406435 Bias 0.049553\n",
            "Epochs 0.000000 Cost 161.400314 Weight -0.406435 Bias 0.049553\n",
            "Epochs 0.000000 Cost 150.901230 Weight -0.406435 Bias 0.049553\n",
            "Epochs 0.000000 Cost 177.072052 Weight -0.406435 Bias 0.049553\n",
            "Epochs 0.000000 Cost 204.895569 Weight -0.406435 Bias 0.049553\n",
            "Epochs 0.000000 Cost 201.670822 Weight -0.406435 Bias 0.049553\n",
            "Epochs 0.000000 Cost 243.911224 Weight -0.406435 Bias 0.049553\n",
            "Epochs 0.000000 Cost 192.444916 Weight -0.406435 Bias 0.049553\n",
            "Epochs 0.000000 Cost 182.759079 Weight -0.406435 Bias 0.049553\n",
            "Epochs 0.000000 Cost 283.621490 Weight -0.406435 Bias 0.049553\n",
            "Epochs 0.000000 Cost 266.324890 Weight -0.406435 Bias 0.049553\n",
            "Epochs 0.000000 Cost 284.716278 Weight -0.406435 Bias 0.049553\n",
            "Epochs 0.000000 Cost 290.764252 Weight -0.406435 Bias 0.049553\n",
            "Epochs 0.000000 Cost 294.001495 Weight -0.406435 Bias 0.049553\n",
            "Epochs 0.000000 Cost 303.470581 Weight -0.406435 Bias 0.049553\n",
            "Epochs 0.000000 Cost 336.615692 Weight -0.406435 Bias 0.049553\n",
            "Epochs 0.000000 Cost 344.007996 Weight -0.406435 Bias 0.049553\n",
            "Epochs 0.000000 Cost 328.738586 Weight -0.406435 Bias 0.049553\n",
            "Epochs 0.000000 Cost 361.432617 Weight -0.406435 Bias 0.049553\n",
            "Epochs 40.000000 Cost 0.786783 Weight -0.406435 Bias 0.049553\n",
            "Epochs 40.000000 Cost 1.456002 Weight -0.406435 Bias 0.049553\n",
            "Epochs 40.000000 Cost 0.000062 Weight -0.406435 Bias 0.049553\n",
            "Epochs 40.000000 Cost 0.168565 Weight -0.406435 Bias 0.049553\n",
            "Epochs 40.000000 Cost 4.743744 Weight -0.406435 Bias 0.049553\n",
            "Epochs 40.000000 Cost 1.794435 Weight -0.406435 Bias 0.049553\n",
            "Epochs 40.000000 Cost 1.616195 Weight -0.406435 Bias 0.049553\n",
            "Epochs 40.000000 Cost 5.751642 Weight -0.406435 Bias 0.049553\n",
            "Epochs 40.000000 Cost 6.110919 Weight -0.406435 Bias 0.049553\n",
            "Epochs 40.000000 Cost 18.654095 Weight -0.406435 Bias 0.049553\n",
            "Epochs 40.000000 Cost 14.155077 Weight -0.406435 Bias 0.049553\n",
            "Epochs 40.000000 Cost 30.293671 Weight -0.406435 Bias 0.049553\n",
            "Epochs 40.000000 Cost 13.748062 Weight -0.406435 Bias 0.049553\n",
            "Epochs 40.000000 Cost 32.645702 Weight -0.406435 Bias 0.049553\n",
            "Epochs 40.000000 Cost 39.274158 Weight -0.406435 Bias 0.049553\n",
            "Epochs 40.000000 Cost 35.812634 Weight -0.406435 Bias 0.049553\n",
            "Epochs 40.000000 Cost 35.081970 Weight -0.406435 Bias 0.049553\n",
            "Epochs 40.000000 Cost 38.082783 Weight -0.406435 Bias 0.049553\n",
            "Epochs 40.000000 Cost 56.978531 Weight -0.406435 Bias 0.049553\n",
            "Epochs 40.000000 Cost 48.820705 Weight -0.406435 Bias 0.049553\n",
            "Epochs 40.000000 Cost 65.081436 Weight -0.406435 Bias 0.049553\n",
            "Epochs 40.000000 Cost 49.752888 Weight -0.406435 Bias 0.049553\n",
            "Epochs 40.000000 Cost 71.360031 Weight -0.406435 Bias 0.049553\n",
            "Epochs 40.000000 Cost 96.304810 Weight -0.406435 Bias 0.049553\n",
            "Epochs 40.000000 Cost 84.107002 Weight -0.406435 Bias 0.049553\n",
            "Epochs 40.000000 Cost 100.424767 Weight -0.406435 Bias 0.049553\n",
            "Epochs 40.000000 Cost 104.509361 Weight -0.406435 Bias 0.049553\n",
            "Epochs 40.000000 Cost 78.503311 Weight -0.406435 Bias 0.049553\n",
            "Epochs 40.000000 Cost 124.069069 Weight -0.406435 Bias 0.049553\n",
            "Epochs 40.000000 Cost 149.100571 Weight -0.406435 Bias 0.049553\n",
            "Epochs 40.000000 Cost 140.729004 Weight -0.406435 Bias 0.049553\n",
            "Epochs 40.000000 Cost 152.344452 Weight -0.406435 Bias 0.049553\n",
            "Epochs 40.000000 Cost 161.400314 Weight -0.406435 Bias 0.049553\n",
            "Epochs 40.000000 Cost 150.901230 Weight -0.406435 Bias 0.049553\n",
            "Epochs 40.000000 Cost 177.072052 Weight -0.406435 Bias 0.049553\n",
            "Epochs 40.000000 Cost 204.895569 Weight -0.406435 Bias 0.049553\n",
            "Epochs 40.000000 Cost 201.670822 Weight -0.406435 Bias 0.049553\n",
            "Epochs 40.000000 Cost 243.911224 Weight -0.406435 Bias 0.049553\n",
            "Epochs 40.000000 Cost 192.444916 Weight -0.406435 Bias 0.049553\n",
            "Epochs 40.000000 Cost 182.759079 Weight -0.406435 Bias 0.049553\n",
            "Epochs 40.000000 Cost 283.621490 Weight -0.406435 Bias 0.049553\n",
            "Epochs 40.000000 Cost 266.324890 Weight -0.406435 Bias 0.049553\n",
            "Epochs 40.000000 Cost 284.716278 Weight -0.406435 Bias 0.049553\n",
            "Epochs 40.000000 Cost 290.764252 Weight -0.406435 Bias 0.049553\n",
            "Epochs 40.000000 Cost 294.001495 Weight -0.406435 Bias 0.049553\n",
            "Epochs 40.000000 Cost 303.470581 Weight -0.406435 Bias 0.049553\n",
            "Epochs 40.000000 Cost 336.615692 Weight -0.406435 Bias 0.049553\n",
            "Epochs 40.000000 Cost 344.007996 Weight -0.406435 Bias 0.049553\n",
            "Epochs 40.000000 Cost 328.738586 Weight -0.406435 Bias 0.049553\n",
            "Epochs 40.000000 Cost 361.432617 Weight -0.406435 Bias 0.049553\n",
            "Epochs 80.000000 Cost 0.786783 Weight -0.406435 Bias 0.049553\n",
            "Epochs 80.000000 Cost 1.456002 Weight -0.406435 Bias 0.049553\n",
            "Epochs 80.000000 Cost 0.000062 Weight -0.406435 Bias 0.049553\n",
            "Epochs 80.000000 Cost 0.168565 Weight -0.406435 Bias 0.049553\n",
            "Epochs 80.000000 Cost 4.743744 Weight -0.406435 Bias 0.049553\n",
            "Epochs 80.000000 Cost 1.794435 Weight -0.406435 Bias 0.049553\n",
            "Epochs 80.000000 Cost 1.616195 Weight -0.406435 Bias 0.049553\n",
            "Epochs 80.000000 Cost 5.751642 Weight -0.406435 Bias 0.049553\n",
            "Epochs 80.000000 Cost 6.110919 Weight -0.406435 Bias 0.049553\n",
            "Epochs 80.000000 Cost 18.654095 Weight -0.406435 Bias 0.049553\n",
            "Epochs 80.000000 Cost 14.155077 Weight -0.406435 Bias 0.049553\n",
            "Epochs 80.000000 Cost 30.293671 Weight -0.406435 Bias 0.049553\n",
            "Epochs 80.000000 Cost 13.748062 Weight -0.406435 Bias 0.049553\n",
            "Epochs 80.000000 Cost 32.645702 Weight -0.406435 Bias 0.049553\n",
            "Epochs 80.000000 Cost 39.274158 Weight -0.406435 Bias 0.049553\n",
            "Epochs 80.000000 Cost 35.812634 Weight -0.406435 Bias 0.049553\n",
            "Epochs 80.000000 Cost 35.081970 Weight -0.406435 Bias 0.049553\n",
            "Epochs 80.000000 Cost 38.082783 Weight -0.406435 Bias 0.049553\n",
            "Epochs 80.000000 Cost 56.978531 Weight -0.406435 Bias 0.049553\n",
            "Epochs 80.000000 Cost 48.820705 Weight -0.406435 Bias 0.049553\n",
            "Epochs 80.000000 Cost 65.081436 Weight -0.406435 Bias 0.049553\n",
            "Epochs 80.000000 Cost 49.752888 Weight -0.406435 Bias 0.049553\n",
            "Epochs 80.000000 Cost 71.360031 Weight -0.406435 Bias 0.049553\n",
            "Epochs 80.000000 Cost 96.304810 Weight -0.406435 Bias 0.049553\n",
            "Epochs 80.000000 Cost 84.107002 Weight -0.406435 Bias 0.049553\n",
            "Epochs 80.000000 Cost 100.424767 Weight -0.406435 Bias 0.049553\n",
            "Epochs 80.000000 Cost 104.509361 Weight -0.406435 Bias 0.049553\n",
            "Epochs 80.000000 Cost 78.503311 Weight -0.406435 Bias 0.049553\n",
            "Epochs 80.000000 Cost 124.069069 Weight -0.406435 Bias 0.049553\n",
            "Epochs 80.000000 Cost 149.100571 Weight -0.406435 Bias 0.049553\n",
            "Epochs 80.000000 Cost 140.729004 Weight -0.406435 Bias 0.049553\n",
            "Epochs 80.000000 Cost 152.344452 Weight -0.406435 Bias 0.049553\n",
            "Epochs 80.000000 Cost 161.400314 Weight -0.406435 Bias 0.049553\n",
            "Epochs 80.000000 Cost 150.901230 Weight -0.406435 Bias 0.049553\n",
            "Epochs 80.000000 Cost 177.072052 Weight -0.406435 Bias 0.049553\n",
            "Epochs 80.000000 Cost 204.895569 Weight -0.406435 Bias 0.049553\n",
            "Epochs 80.000000 Cost 201.670822 Weight -0.406435 Bias 0.049553\n",
            "Epochs 80.000000 Cost 243.911224 Weight -0.406435 Bias 0.049553\n",
            "Epochs 80.000000 Cost 192.444916 Weight -0.406435 Bias 0.049553\n",
            "Epochs 80.000000 Cost 182.759079 Weight -0.406435 Bias 0.049553\n",
            "Epochs 80.000000 Cost 283.621490 Weight -0.406435 Bias 0.049553\n",
            "Epochs 80.000000 Cost 266.324890 Weight -0.406435 Bias 0.049553\n",
            "Epochs 80.000000 Cost 284.716278 Weight -0.406435 Bias 0.049553\n",
            "Epochs 80.000000 Cost 290.764252 Weight -0.406435 Bias 0.049553\n",
            "Epochs 80.000000 Cost 294.001495 Weight -0.406435 Bias 0.049553\n",
            "Epochs 80.000000 Cost 303.470581 Weight -0.406435 Bias 0.049553\n",
            "Epochs 80.000000 Cost 336.615692 Weight -0.406435 Bias 0.049553\n",
            "Epochs 80.000000 Cost 344.007996 Weight -0.406435 Bias 0.049553\n",
            "Epochs 80.000000 Cost 328.738586 Weight -0.406435 Bias 0.049553\n",
            "Epochs 80.000000 Cost 361.432617 Weight -0.406435 Bias 0.049553\n",
            "Epochs 120.000000 Cost 0.786783 Weight -0.406435 Bias 0.049553\n",
            "Epochs 120.000000 Cost 1.456002 Weight -0.406435 Bias 0.049553\n",
            "Epochs 120.000000 Cost 0.000062 Weight -0.406435 Bias 0.049553\n",
            "Epochs 120.000000 Cost 0.168565 Weight -0.406435 Bias 0.049553\n",
            "Epochs 120.000000 Cost 4.743744 Weight -0.406435 Bias 0.049553\n",
            "Epochs 120.000000 Cost 1.794435 Weight -0.406435 Bias 0.049553\n",
            "Epochs 120.000000 Cost 1.616195 Weight -0.406435 Bias 0.049553\n",
            "Epochs 120.000000 Cost 5.751642 Weight -0.406435 Bias 0.049553\n",
            "Epochs 120.000000 Cost 6.110919 Weight -0.406435 Bias 0.049553\n",
            "Epochs 120.000000 Cost 18.654095 Weight -0.406435 Bias 0.049553\n",
            "Epochs 120.000000 Cost 14.155077 Weight -0.406435 Bias 0.049553\n",
            "Epochs 120.000000 Cost 30.293671 Weight -0.406435 Bias 0.049553\n",
            "Epochs 120.000000 Cost 13.748062 Weight -0.406435 Bias 0.049553\n",
            "Epochs 120.000000 Cost 32.645702 Weight -0.406435 Bias 0.049553\n",
            "Epochs 120.000000 Cost 39.274158 Weight -0.406435 Bias 0.049553\n",
            "Epochs 120.000000 Cost 35.812634 Weight -0.406435 Bias 0.049553\n",
            "Epochs 120.000000 Cost 35.081970 Weight -0.406435 Bias 0.049553\n",
            "Epochs 120.000000 Cost 38.082783 Weight -0.406435 Bias 0.049553\n",
            "Epochs 120.000000 Cost 56.978531 Weight -0.406435 Bias 0.049553\n",
            "Epochs 120.000000 Cost 48.820705 Weight -0.406435 Bias 0.049553\n",
            "Epochs 120.000000 Cost 65.081436 Weight -0.406435 Bias 0.049553\n",
            "Epochs 120.000000 Cost 49.752888 Weight -0.406435 Bias 0.049553\n",
            "Epochs 120.000000 Cost 71.360031 Weight -0.406435 Bias 0.049553\n",
            "Epochs 120.000000 Cost 96.304810 Weight -0.406435 Bias 0.049553\n",
            "Epochs 120.000000 Cost 84.107002 Weight -0.406435 Bias 0.049553\n",
            "Epochs 120.000000 Cost 100.424767 Weight -0.406435 Bias 0.049553\n",
            "Epochs 120.000000 Cost 104.509361 Weight -0.406435 Bias 0.049553\n",
            "Epochs 120.000000 Cost 78.503311 Weight -0.406435 Bias 0.049553\n",
            "Epochs 120.000000 Cost 124.069069 Weight -0.406435 Bias 0.049553\n",
            "Epochs 120.000000 Cost 149.100571 Weight -0.406435 Bias 0.049553\n",
            "Epochs 120.000000 Cost 140.729004 Weight -0.406435 Bias 0.049553\n",
            "Epochs 120.000000 Cost 152.344452 Weight -0.406435 Bias 0.049553\n",
            "Epochs 120.000000 Cost 161.400314 Weight -0.406435 Bias 0.049553\n",
            "Epochs 120.000000 Cost 150.901230 Weight -0.406435 Bias 0.049553\n",
            "Epochs 120.000000 Cost 177.072052 Weight -0.406435 Bias 0.049553\n",
            "Epochs 120.000000 Cost 204.895569 Weight -0.406435 Bias 0.049553\n",
            "Epochs 120.000000 Cost 201.670822 Weight -0.406435 Bias 0.049553\n",
            "Epochs 120.000000 Cost 243.911224 Weight -0.406435 Bias 0.049553\n",
            "Epochs 120.000000 Cost 192.444916 Weight -0.406435 Bias 0.049553\n",
            "Epochs 120.000000 Cost 182.759079 Weight -0.406435 Bias 0.049553\n",
            "Epochs 120.000000 Cost 283.621490 Weight -0.406435 Bias 0.049553\n",
            "Epochs 120.000000 Cost 266.324890 Weight -0.406435 Bias 0.049553\n",
            "Epochs 120.000000 Cost 284.716278 Weight -0.406435 Bias 0.049553\n",
            "Epochs 120.000000 Cost 290.764252 Weight -0.406435 Bias 0.049553\n",
            "Epochs 120.000000 Cost 294.001495 Weight -0.406435 Bias 0.049553\n",
            "Epochs 120.000000 Cost 303.470581 Weight -0.406435 Bias 0.049553\n",
            "Epochs 120.000000 Cost 336.615692 Weight -0.406435 Bias 0.049553\n",
            "Epochs 120.000000 Cost 344.007996 Weight -0.406435 Bias 0.049553\n",
            "Epochs 120.000000 Cost 328.738586 Weight -0.406435 Bias 0.049553\n",
            "Epochs 120.000000 Cost 361.432617 Weight -0.406435 Bias 0.049553\n",
            "Epochs 160.000000 Cost 0.786783 Weight -0.406435 Bias 0.049553\n",
            "Epochs 160.000000 Cost 1.456002 Weight -0.406435 Bias 0.049553\n",
            "Epochs 160.000000 Cost 0.000062 Weight -0.406435 Bias 0.049553\n",
            "Epochs 160.000000 Cost 0.168565 Weight -0.406435 Bias 0.049553\n",
            "Epochs 160.000000 Cost 4.743744 Weight -0.406435 Bias 0.049553\n",
            "Epochs 160.000000 Cost 1.794435 Weight -0.406435 Bias 0.049553\n",
            "Epochs 160.000000 Cost 1.616195 Weight -0.406435 Bias 0.049553\n",
            "Epochs 160.000000 Cost 5.751642 Weight -0.406435 Bias 0.049553\n",
            "Epochs 160.000000 Cost 6.110919 Weight -0.406435 Bias 0.049553\n",
            "Epochs 160.000000 Cost 18.654095 Weight -0.406435 Bias 0.049553\n",
            "Epochs 160.000000 Cost 14.155077 Weight -0.406435 Bias 0.049553\n",
            "Epochs 160.000000 Cost 30.293671 Weight -0.406435 Bias 0.049553\n",
            "Epochs 160.000000 Cost 13.748062 Weight -0.406435 Bias 0.049553\n",
            "Epochs 160.000000 Cost 32.645702 Weight -0.406435 Bias 0.049553\n",
            "Epochs 160.000000 Cost 39.274158 Weight -0.406435 Bias 0.049553\n",
            "Epochs 160.000000 Cost 35.812634 Weight -0.406435 Bias 0.049553\n",
            "Epochs 160.000000 Cost 35.081970 Weight -0.406435 Bias 0.049553\n",
            "Epochs 160.000000 Cost 38.082783 Weight -0.406435 Bias 0.049553\n",
            "Epochs 160.000000 Cost 56.978531 Weight -0.406435 Bias 0.049553\n",
            "Epochs 160.000000 Cost 48.820705 Weight -0.406435 Bias 0.049553\n",
            "Epochs 160.000000 Cost 65.081436 Weight -0.406435 Bias 0.049553\n",
            "Epochs 160.000000 Cost 49.752888 Weight -0.406435 Bias 0.049553\n",
            "Epochs 160.000000 Cost 71.360031 Weight -0.406435 Bias 0.049553\n",
            "Epochs 160.000000 Cost 96.304810 Weight -0.406435 Bias 0.049553\n",
            "Epochs 160.000000 Cost 84.107002 Weight -0.406435 Bias 0.049553\n",
            "Epochs 160.000000 Cost 100.424767 Weight -0.406435 Bias 0.049553\n",
            "Epochs 160.000000 Cost 104.509361 Weight -0.406435 Bias 0.049553\n",
            "Epochs 160.000000 Cost 78.503311 Weight -0.406435 Bias 0.049553\n",
            "Epochs 160.000000 Cost 124.069069 Weight -0.406435 Bias 0.049553\n",
            "Epochs 160.000000 Cost 149.100571 Weight -0.406435 Bias 0.049553\n",
            "Epochs 160.000000 Cost 140.729004 Weight -0.406435 Bias 0.049553\n",
            "Epochs 160.000000 Cost 152.344452 Weight -0.406435 Bias 0.049553\n",
            "Epochs 160.000000 Cost 161.400314 Weight -0.406435 Bias 0.049553\n",
            "Epochs 160.000000 Cost 150.901230 Weight -0.406435 Bias 0.049553\n",
            "Epochs 160.000000 Cost 177.072052 Weight -0.406435 Bias 0.049553\n",
            "Epochs 160.000000 Cost 204.895569 Weight -0.406435 Bias 0.049553\n",
            "Epochs 160.000000 Cost 201.670822 Weight -0.406435 Bias 0.049553\n",
            "Epochs 160.000000 Cost 243.911224 Weight -0.406435 Bias 0.049553\n",
            "Epochs 160.000000 Cost 192.444916 Weight -0.406435 Bias 0.049553\n",
            "Epochs 160.000000 Cost 182.759079 Weight -0.406435 Bias 0.049553\n",
            "Epochs 160.000000 Cost 283.621490 Weight -0.406435 Bias 0.049553\n",
            "Epochs 160.000000 Cost 266.324890 Weight -0.406435 Bias 0.049553\n",
            "Epochs 160.000000 Cost 284.716278 Weight -0.406435 Bias 0.049553\n",
            "Epochs 160.000000 Cost 290.764252 Weight -0.406435 Bias 0.049553\n",
            "Epochs 160.000000 Cost 294.001495 Weight -0.406435 Bias 0.049553\n",
            "Epochs 160.000000 Cost 303.470581 Weight -0.406435 Bias 0.049553\n",
            "Epochs 160.000000 Cost 336.615692 Weight -0.406435 Bias 0.049553\n",
            "Epochs 160.000000 Cost 344.007996 Weight -0.406435 Bias 0.049553\n",
            "Epochs 160.000000 Cost 328.738586 Weight -0.406435 Bias 0.049553\n",
            "Epochs 160.000000 Cost 361.432617 Weight -0.406435 Bias 0.049553\n",
            "Epochs 200.000000 Cost 0.786783 Weight -0.406435 Bias 0.049553\n",
            "Epochs 200.000000 Cost 1.456002 Weight -0.406435 Bias 0.049553\n",
            "Epochs 200.000000 Cost 0.000062 Weight -0.406435 Bias 0.049553\n",
            "Epochs 200.000000 Cost 0.168565 Weight -0.406435 Bias 0.049553\n",
            "Epochs 200.000000 Cost 4.743744 Weight -0.406435 Bias 0.049553\n",
            "Epochs 200.000000 Cost 1.794435 Weight -0.406435 Bias 0.049553\n",
            "Epochs 200.000000 Cost 1.616195 Weight -0.406435 Bias 0.049553\n",
            "Epochs 200.000000 Cost 5.751642 Weight -0.406435 Bias 0.049553\n",
            "Epochs 200.000000 Cost 6.110919 Weight -0.406435 Bias 0.049553\n",
            "Epochs 200.000000 Cost 18.654095 Weight -0.406435 Bias 0.049553\n",
            "Epochs 200.000000 Cost 14.155077 Weight -0.406435 Bias 0.049553\n",
            "Epochs 200.000000 Cost 30.293671 Weight -0.406435 Bias 0.049553\n",
            "Epochs 200.000000 Cost 13.748062 Weight -0.406435 Bias 0.049553\n",
            "Epochs 200.000000 Cost 32.645702 Weight -0.406435 Bias 0.049553\n",
            "Epochs 200.000000 Cost 39.274158 Weight -0.406435 Bias 0.049553\n",
            "Epochs 200.000000 Cost 35.812634 Weight -0.406435 Bias 0.049553\n",
            "Epochs 200.000000 Cost 35.081970 Weight -0.406435 Bias 0.049553\n",
            "Epochs 200.000000 Cost 38.082783 Weight -0.406435 Bias 0.049553\n",
            "Epochs 200.000000 Cost 56.978531 Weight -0.406435 Bias 0.049553\n",
            "Epochs 200.000000 Cost 48.820705 Weight -0.406435 Bias 0.049553\n",
            "Epochs 200.000000 Cost 65.081436 Weight -0.406435 Bias 0.049553\n",
            "Epochs 200.000000 Cost 49.752888 Weight -0.406435 Bias 0.049553\n",
            "Epochs 200.000000 Cost 71.360031 Weight -0.406435 Bias 0.049553\n",
            "Epochs 200.000000 Cost 96.304810 Weight -0.406435 Bias 0.049553\n",
            "Epochs 200.000000 Cost 84.107002 Weight -0.406435 Bias 0.049553\n",
            "Epochs 200.000000 Cost 100.424767 Weight -0.406435 Bias 0.049553\n",
            "Epochs 200.000000 Cost 104.509361 Weight -0.406435 Bias 0.049553\n",
            "Epochs 200.000000 Cost 78.503311 Weight -0.406435 Bias 0.049553\n",
            "Epochs 200.000000 Cost 124.069069 Weight -0.406435 Bias 0.049553\n",
            "Epochs 200.000000 Cost 149.100571 Weight -0.406435 Bias 0.049553\n",
            "Epochs 200.000000 Cost 140.729004 Weight -0.406435 Bias 0.049553\n",
            "Epochs 200.000000 Cost 152.344452 Weight -0.406435 Bias 0.049553\n",
            "Epochs 200.000000 Cost 161.400314 Weight -0.406435 Bias 0.049553\n",
            "Epochs 200.000000 Cost 150.901230 Weight -0.406435 Bias 0.049553\n",
            "Epochs 200.000000 Cost 177.072052 Weight -0.406435 Bias 0.049553\n",
            "Epochs 200.000000 Cost 204.895569 Weight -0.406435 Bias 0.049553\n",
            "Epochs 200.000000 Cost 201.670822 Weight -0.406435 Bias 0.049553\n",
            "Epochs 200.000000 Cost 243.911224 Weight -0.406435 Bias 0.049553\n",
            "Epochs 200.000000 Cost 192.444916 Weight -0.406435 Bias 0.049553\n",
            "Epochs 200.000000 Cost 182.759079 Weight -0.406435 Bias 0.049553\n",
            "Epochs 200.000000 Cost 283.621490 Weight -0.406435 Bias 0.049553\n",
            "Epochs 200.000000 Cost 266.324890 Weight -0.406435 Bias 0.049553\n",
            "Epochs 200.000000 Cost 284.716278 Weight -0.406435 Bias 0.049553\n",
            "Epochs 200.000000 Cost 290.764252 Weight -0.406435 Bias 0.049553\n",
            "Epochs 200.000000 Cost 294.001495 Weight -0.406435 Bias 0.049553\n",
            "Epochs 200.000000 Cost 303.470581 Weight -0.406435 Bias 0.049553\n",
            "Epochs 200.000000 Cost 336.615692 Weight -0.406435 Bias 0.049553\n",
            "Epochs 200.000000 Cost 344.007996 Weight -0.406435 Bias 0.049553\n",
            "Epochs 200.000000 Cost 328.738586 Weight -0.406435 Bias 0.049553\n",
            "Epochs 200.000000 Cost 361.432617 Weight -0.406435 Bias 0.049553\n",
            "Epochs 240.000000 Cost 0.786783 Weight -0.406435 Bias 0.049553\n",
            "Epochs 240.000000 Cost 1.456002 Weight -0.406435 Bias 0.049553\n",
            "Epochs 240.000000 Cost 0.000062 Weight -0.406435 Bias 0.049553\n",
            "Epochs 240.000000 Cost 0.168565 Weight -0.406435 Bias 0.049553\n",
            "Epochs 240.000000 Cost 4.743744 Weight -0.406435 Bias 0.049553\n",
            "Epochs 240.000000 Cost 1.794435 Weight -0.406435 Bias 0.049553\n",
            "Epochs 240.000000 Cost 1.616195 Weight -0.406435 Bias 0.049553\n",
            "Epochs 240.000000 Cost 5.751642 Weight -0.406435 Bias 0.049553\n",
            "Epochs 240.000000 Cost 6.110919 Weight -0.406435 Bias 0.049553\n",
            "Epochs 240.000000 Cost 18.654095 Weight -0.406435 Bias 0.049553\n",
            "Epochs 240.000000 Cost 14.155077 Weight -0.406435 Bias 0.049553\n",
            "Epochs 240.000000 Cost 30.293671 Weight -0.406435 Bias 0.049553\n",
            "Epochs 240.000000 Cost 13.748062 Weight -0.406435 Bias 0.049553\n",
            "Epochs 240.000000 Cost 32.645702 Weight -0.406435 Bias 0.049553\n",
            "Epochs 240.000000 Cost 39.274158 Weight -0.406435 Bias 0.049553\n",
            "Epochs 240.000000 Cost 35.812634 Weight -0.406435 Bias 0.049553\n",
            "Epochs 240.000000 Cost 35.081970 Weight -0.406435 Bias 0.049553\n",
            "Epochs 240.000000 Cost 38.082783 Weight -0.406435 Bias 0.049553\n",
            "Epochs 240.000000 Cost 56.978531 Weight -0.406435 Bias 0.049553\n",
            "Epochs 240.000000 Cost 48.820705 Weight -0.406435 Bias 0.049553\n",
            "Epochs 240.000000 Cost 65.081436 Weight -0.406435 Bias 0.049553\n",
            "Epochs 240.000000 Cost 49.752888 Weight -0.406435 Bias 0.049553\n",
            "Epochs 240.000000 Cost 71.360031 Weight -0.406435 Bias 0.049553\n",
            "Epochs 240.000000 Cost 96.304810 Weight -0.406435 Bias 0.049553\n",
            "Epochs 240.000000 Cost 84.107002 Weight -0.406435 Bias 0.049553\n",
            "Epochs 240.000000 Cost 100.424767 Weight -0.406435 Bias 0.049553\n",
            "Epochs 240.000000 Cost 104.509361 Weight -0.406435 Bias 0.049553\n",
            "Epochs 240.000000 Cost 78.503311 Weight -0.406435 Bias 0.049553\n",
            "Epochs 240.000000 Cost 124.069069 Weight -0.406435 Bias 0.049553\n",
            "Epochs 240.000000 Cost 149.100571 Weight -0.406435 Bias 0.049553\n",
            "Epochs 240.000000 Cost 140.729004 Weight -0.406435 Bias 0.049553\n",
            "Epochs 240.000000 Cost 152.344452 Weight -0.406435 Bias 0.049553\n",
            "Epochs 240.000000 Cost 161.400314 Weight -0.406435 Bias 0.049553\n",
            "Epochs 240.000000 Cost 150.901230 Weight -0.406435 Bias 0.049553\n",
            "Epochs 240.000000 Cost 177.072052 Weight -0.406435 Bias 0.049553\n",
            "Epochs 240.000000 Cost 204.895569 Weight -0.406435 Bias 0.049553\n",
            "Epochs 240.000000 Cost 201.670822 Weight -0.406435 Bias 0.049553\n",
            "Epochs 240.000000 Cost 243.911224 Weight -0.406435 Bias 0.049553\n",
            "Epochs 240.000000 Cost 192.444916 Weight -0.406435 Bias 0.049553\n",
            "Epochs 240.000000 Cost 182.759079 Weight -0.406435 Bias 0.049553\n",
            "Epochs 240.000000 Cost 283.621490 Weight -0.406435 Bias 0.049553\n",
            "Epochs 240.000000 Cost 266.324890 Weight -0.406435 Bias 0.049553\n",
            "Epochs 240.000000 Cost 284.716278 Weight -0.406435 Bias 0.049553\n",
            "Epochs 240.000000 Cost 290.764252 Weight -0.406435 Bias 0.049553\n",
            "Epochs 240.000000 Cost 294.001495 Weight -0.406435 Bias 0.049553\n",
            "Epochs 240.000000 Cost 303.470581 Weight -0.406435 Bias 0.049553\n",
            "Epochs 240.000000 Cost 336.615692 Weight -0.406435 Bias 0.049553\n",
            "Epochs 240.000000 Cost 344.007996 Weight -0.406435 Bias 0.049553\n",
            "Epochs 240.000000 Cost 328.738586 Weight -0.406435 Bias 0.049553\n",
            "Epochs 240.000000 Cost 361.432617 Weight -0.406435 Bias 0.049553\n",
            "Epochs 280.000000 Cost 0.786783 Weight -0.406435 Bias 0.049553\n",
            "Epochs 280.000000 Cost 1.456002 Weight -0.406435 Bias 0.049553\n",
            "Epochs 280.000000 Cost 0.000062 Weight -0.406435 Bias 0.049553\n",
            "Epochs 280.000000 Cost 0.168565 Weight -0.406435 Bias 0.049553\n",
            "Epochs 280.000000 Cost 4.743744 Weight -0.406435 Bias 0.049553\n",
            "Epochs 280.000000 Cost 1.794435 Weight -0.406435 Bias 0.049553\n",
            "Epochs 280.000000 Cost 1.616195 Weight -0.406435 Bias 0.049553\n",
            "Epochs 280.000000 Cost 5.751642 Weight -0.406435 Bias 0.049553\n",
            "Epochs 280.000000 Cost 6.110919 Weight -0.406435 Bias 0.049553\n",
            "Epochs 280.000000 Cost 18.654095 Weight -0.406435 Bias 0.049553\n",
            "Epochs 280.000000 Cost 14.155077 Weight -0.406435 Bias 0.049553\n",
            "Epochs 280.000000 Cost 30.293671 Weight -0.406435 Bias 0.049553\n",
            "Epochs 280.000000 Cost 13.748062 Weight -0.406435 Bias 0.049553\n",
            "Epochs 280.000000 Cost 32.645702 Weight -0.406435 Bias 0.049553\n",
            "Epochs 280.000000 Cost 39.274158 Weight -0.406435 Bias 0.049553\n",
            "Epochs 280.000000 Cost 35.812634 Weight -0.406435 Bias 0.049553\n",
            "Epochs 280.000000 Cost 35.081970 Weight -0.406435 Bias 0.049553\n",
            "Epochs 280.000000 Cost 38.082783 Weight -0.406435 Bias 0.049553\n",
            "Epochs 280.000000 Cost 56.978531 Weight -0.406435 Bias 0.049553\n",
            "Epochs 280.000000 Cost 48.820705 Weight -0.406435 Bias 0.049553\n",
            "Epochs 280.000000 Cost 65.081436 Weight -0.406435 Bias 0.049553\n",
            "Epochs 280.000000 Cost 49.752888 Weight -0.406435 Bias 0.049553\n",
            "Epochs 280.000000 Cost 71.360031 Weight -0.406435 Bias 0.049553\n",
            "Epochs 280.000000 Cost 96.304810 Weight -0.406435 Bias 0.049553\n",
            "Epochs 280.000000 Cost 84.107002 Weight -0.406435 Bias 0.049553\n",
            "Epochs 280.000000 Cost 100.424767 Weight -0.406435 Bias 0.049553\n",
            "Epochs 280.000000 Cost 104.509361 Weight -0.406435 Bias 0.049553\n",
            "Epochs 280.000000 Cost 78.503311 Weight -0.406435 Bias 0.049553\n",
            "Epochs 280.000000 Cost 124.069069 Weight -0.406435 Bias 0.049553\n",
            "Epochs 280.000000 Cost 149.100571 Weight -0.406435 Bias 0.049553\n",
            "Epochs 280.000000 Cost 140.729004 Weight -0.406435 Bias 0.049553\n",
            "Epochs 280.000000 Cost 152.344452 Weight -0.406435 Bias 0.049553\n",
            "Epochs 280.000000 Cost 161.400314 Weight -0.406435 Bias 0.049553\n",
            "Epochs 280.000000 Cost 150.901230 Weight -0.406435 Bias 0.049553\n",
            "Epochs 280.000000 Cost 177.072052 Weight -0.406435 Bias 0.049553\n",
            "Epochs 280.000000 Cost 204.895569 Weight -0.406435 Bias 0.049553\n",
            "Epochs 280.000000 Cost 201.670822 Weight -0.406435 Bias 0.049553\n",
            "Epochs 280.000000 Cost 243.911224 Weight -0.406435 Bias 0.049553\n",
            "Epochs 280.000000 Cost 192.444916 Weight -0.406435 Bias 0.049553\n",
            "Epochs 280.000000 Cost 182.759079 Weight -0.406435 Bias 0.049553\n",
            "Epochs 280.000000 Cost 283.621490 Weight -0.406435 Bias 0.049553\n",
            "Epochs 280.000000 Cost 266.324890 Weight -0.406435 Bias 0.049553\n",
            "Epochs 280.000000 Cost 284.716278 Weight -0.406435 Bias 0.049553\n",
            "Epochs 280.000000 Cost 290.764252 Weight -0.406435 Bias 0.049553\n",
            "Epochs 280.000000 Cost 294.001495 Weight -0.406435 Bias 0.049553\n",
            "Epochs 280.000000 Cost 303.470581 Weight -0.406435 Bias 0.049553\n",
            "Epochs 280.000000 Cost 336.615692 Weight -0.406435 Bias 0.049553\n",
            "Epochs 280.000000 Cost 344.007996 Weight -0.406435 Bias 0.049553\n",
            "Epochs 280.000000 Cost 328.738586 Weight -0.406435 Bias 0.049553\n",
            "Epochs 280.000000 Cost 361.432617 Weight -0.406435 Bias 0.049553\n"
          ]
        },
        {
          "output_type": "display_data",
          "data": {
            "text/plain": [
              "<Figure size 432x288 with 1 Axes>"
            ],
            "image/png": "[encoded data removed]"
          },
          "metadata": {
            "needs_background": "light"
          }
        }
      ]
    },
    {
      "cell_type": "code",
      "source": [
        "with tf.name_scope(\"Model\") as scope:\n",
        "  prediction=W*X+Bias\n",
        "  weight_histogram=tf.summary.histogram(\"Weights\", W)\n",
        "  bias_histogram=tf.summary.histogram(\"Bias\", B)\n",
        "\n",
        "with tf.name_scope(\"Cost_function\") as scope:\n",
        "  cost_iteration=tf.reduce_sum((prediction-Y)**2)/(2*sample_points)\n",
        "\n",
        "cost_summary=tf.summary.scalar(\"Cost\", cost_iteration)"
      ],
      "metadata": {
        "id": "d_XSvyJO8T1q"
      },
      "execution_count": 8,
      "outputs": []
    },
    {
      "cell_type": "code",
      "source": [
        "with tf.name_scope(\"Training\") as scope:\n",
        "  optimizer = tf.train.GradientDescentOptimizer(learning_parameter).minimize(cost_iteration)\n",
        "  \n",
        "  init=tf.global_variables_initializer()\n",
        "\n",
        "  merged_summary=tf.summary.merge_all()"
      ],
      "metadata": {
        "id": "PisaKQNt8V7b"
      },
      "execution_count": 9,
      "outputs": []
    },
    {
      "cell_type": "code",
      "source": [
        "with tf.Session() as sess:\n",
        "  sess.run(init)\n",
        "  writer=tf.summary.FileWriter('./log', sess.graph)\n",
        "  for epoch in range(epochs):\n",
        "    for x, y in zip(x_train, y_train):\n",
        "      sess.run(optimizer, feed_dict={X:x, Y:y})\n",
        "\n",
        "      summary_epochs=sess.run(merged_summary, feed_dict={X:x, Y:y})\n",
        "      writer.add_summary(summary_epochs, epoch)\n",
        "      if not epoch%40:\n",
        "        W1=sess.run(W)\n",
        "        B1=sess.run(B)\n",
        "        cost_iter=sess.run(cost_iteration, feed_dict={X:x, Y:y})\n",
        "        print('Epochs %f Cost %f Weight %f Bias %f' %(epoch, cost_iter, W1, B1))\n",
        "  Weight=sess.run(W)\n",
        "  Bias=sess.run(B)\n",
        "\n",
        "  plt.plot(x_train, y_train, 'o')\n",
        "  plt.plot(x_train, Weight*x_train+Bias)\n",
        "  plt.show()"
      ],
      "metadata": {
        "colab": {
          "base_uri": "https://localhost:8080/",
          "height": 1000
        },
        "id": "dR77DJ3W8YX7",
        "outputId": "b7a9fe83-bdcd-4d15-c24f-39341c47b254"
      },
      "execution_count": 10,
      "outputs": [
        {
          "output_type": "stream",
          "name": "stdout",
          "text": [
            "Epochs 0.000000 Cost 0.786783 Weight -0.406435 Bias 0.049553\n",
            "Epochs 0.000000 Cost 1.455783 Weight -0.404958 Bias 0.049553\n",
            "Epochs 0.000000 Cost 0.000059 Weight -0.404939 Bias 0.049553\n",
            "Epochs 0.000000 Cost 0.168112 Weight -0.403431 Bias 0.049553\n",
            "Epochs 0.000000 Cost 4.729174 Weight -0.392767 Bias 0.049553\n",
            "Epochs 0.000000 Cost 1.776565 Weight -0.384591 Bias 0.049553\n",
            "Epochs 0.000000 Cost 1.587255 Weight -0.375310 Bias 0.049553\n",
            "Epochs 0.000000 Cost 5.646127 Weight -0.354868 Bias 0.049553\n",
            "Epochs 0.000000 Cost 5.929373 Weight -0.330900 Bias 0.049553\n",
            "Epochs 0.000000 Cost 18.074766 Weight -0.283761 Bias 0.049553\n",
            "Epochs 0.000000 Cost 13.392483 Weight -0.238611 Bias 0.049553\n",
            "Epochs 0.000000 Cost 28.537415 Weight -0.165999 Bias 0.049553\n",
            "Epochs 0.000000 Cost 12.201536 Weight -0.114112 Bias 0.049553\n",
            "Epochs 0.000000 Cost 29.284697 Weight -0.026863 Bias 0.049553\n",
            "Epochs 0.000000 Cost 34.272335 Weight 0.074992 Bias 0.049553\n",
            "Epochs 0.000000 Cost 29.688904 Weight 0.176788 Bias 0.049553\n",
            "Epochs 0.000000 Cost 27.551725 Weight 0.281637 Bias 0.049553\n",
            "Epochs 0.000000 Cost 28.481224 Weight 0.395190 Bias 0.049553\n",
            "Epochs 0.000000 Cost 42.290276 Weight 0.542092 Bias 0.049553\n",
            "Epochs 0.000000 Cost 32.770542 Weight 0.678980 Bias 0.049553\n",
            "Epochs 0.000000 Cost 42.721451 Weight 0.843998 Bias 0.049553\n",
            "Epochs 0.000000 Cost 27.728928 Weight 0.984034 Bias 0.049553\n",
            "Epochs 0.000000 Cost 40.145535 Weight 1.161146 Bias 0.049553\n",
            "Epochs 0.000000 Cost 53.354916 Weight 1.375359 Bias 0.049553\n",
            "Epochs 0.000000 Cost 39.311344 Weight 1.567932 Bias 0.049553\n",
            "Epochs 0.000000 Cost 44.505882 Weight 1.782194 Bias 0.049553\n",
            "Epochs 0.000000 Cost 40.928200 Weight 1.996743 Bias 0.049553\n",
            "Epochs 0.000000 Cost 21.348925 Weight 2.158334 Bias 0.049553\n",
            "Epochs 0.000000 Cost 40.266964 Weight 2.389484 Bias 0.049553\n",
            "Epochs 0.000000 Cost 46.098797 Weight 2.646808 Bias 0.049553\n",
            "Epochs 0.000000 Cost 34.022671 Weight 2.876581 Bias 0.049553\n",
            "Epochs 0.000000 Cost 32.165195 Weight 3.108578 Bias 0.049553\n",
            "Epochs 0.000000 Cost 28.849426 Weight 3.336541 Bias 0.049553\n",
            "Epochs 0.000000 Cost 18.803940 Weight 3.527342 Bias 0.049553\n",
            "Epochs 0.000000 Cost 21.851915 Weight 3.740425 Bias 0.049553\n",
            "Epochs 0.000000 Cost 24.300480 Weight 3.973055 Bias 0.049553\n",
            "Epochs 0.000000 Cost 16.862654 Weight 4.173553 Bias 0.049553\n",
            "Epochs 0.000000 Cost 22.132555 Weight 4.411074 Bias 0.049553\n",
            "Epochs 0.000000 Cost 5.645083 Weight 4.535049 Bias 0.049553\n",
            "Epochs 0.000000 Cost 2.321617 Weight 4.617177 Bias 0.049553\n",
            "Epochs 0.000000 Cost 15.951770 Weight 4.839464 Bias 0.049553\n",
            "Epochs 0.000000 Cost 7.584878 Weight 4.997666 Bias 0.049553\n",
            "Epochs 0.000000 Cost 6.674720 Weight 5.150784 Bias 0.049553\n",
            "Epochs 0.000000 Cost 4.351014 Weight 5.278287 Bias 0.049553\n",
            "Epochs 0.000000 Cost 2.454087 Weight 5.377019 Bias 0.049553\n",
            "Epochs 0.000000 Cost 1.589482 Weight 5.458923 Bias 0.049553\n",
            "Epochs 0.000000 Cost 2.366337 Weight 5.561906 Bias 0.049553\n",
            "Epochs 0.000000 Cost 1.312922 Weight 5.640938 Bias 0.049553\n",
            "Epochs 0.000000 Cost 0.088341 Weight 5.662055 Bias 0.049553\n",
            "Epochs 0.000000 Cost 0.436721 Weight 5.710409 Bias 0.049553\n",
            "Epochs 40.000000 Cost 0.786783 Weight 5.966586 Bias 0.049553\n",
            "Epochs 40.000000 Cost 0.666514 Weight 5.967586 Bias 0.049553\n",
            "Epochs 40.000000 Cost 0.596556 Weight 5.965693 Bias 0.049553\n",
            "Epochs 40.000000 Cost 0.576554 Weight 5.962902 Bias 0.049553\n",
            "Epochs 40.000000 Cost 0.381225 Weight 5.965930 Bias 0.049553\n",
            "Epochs 40.000000 Cost 0.372116 Weight 5.962188 Bias 0.049553\n",
            "Epochs 40.000000 Cost 1.134895 Weight 5.954340 Bias 0.049553\n",
            "Epochs 40.000000 Cost 0.106657 Weight 5.951531 Bias 0.049553\n",
            "Epochs 40.000000 Cost 0.408318 Weight 5.945241 Bias 0.049553\n",
            "Epochs 40.000000 Cost 0.662859 Weight 5.954268 Bias 0.049553\n",
            "Epochs 40.000000 Cost 0.017160 Weight 5.952652 Bias 0.049553\n",
            "Epochs 40.000000 Cost 1.464679 Weight 5.969102 Bias 0.049553\n",
            "Epochs 40.000000 Cost 0.932560 Weight 5.954758 Bias 0.049553\n",
            "Epochs 40.000000 Cost 0.412688 Weight 5.965115 Bias 0.049553\n",
            "Epochs 40.000000 Cost 0.630029 Weight 5.978925 Bias 0.049553\n",
            "Epochs 40.000000 Cost 0.013979 Weight 5.981134 Bias 0.049553\n",
            "Epochs 40.000000 Cost 0.107448 Weight 5.974586 Bias 0.049553\n",
            "Epochs 40.000000 Cost 0.211743 Weight 5.964795 Bias 0.049553\n",
            "Epochs 40.000000 Cost 0.264457 Weight 5.976412 Bias 0.049553\n",
            "Epochs 40.000000 Cost 0.181404 Weight 5.966227 Bias 0.049553\n",
            "Epochs 40.000000 Cost 0.065602 Weight 5.972693 Bias 0.049553\n",
            "Epochs 40.000000 Cost 1.232552 Weight 5.943169 Bias 0.049553\n",
            "Epochs 40.000000 Cost 0.010248 Weight 5.940340 Bias 0.049553\n",
            "Epochs 40.000000 Cost 0.708052 Weight 5.965016 Bias 0.049553\n",
            "Epochs 40.000000 Cost 0.033449 Weight 5.959399 Bias 0.049553\n",
            "Epochs 40.000000 Cost 0.070005 Weight 5.967897 Bias 0.049553\n",
            "Epochs 40.000000 Cost 0.005217 Weight 5.970319 Bias 0.049553\n",
            "Epochs 40.000000 Cost 2.525202 Weight 5.914745 Bias 0.049553\n",
            "Epochs 40.000000 Cost 0.080970 Weight 5.925110 Bias 0.049553\n",
            "Epochs 40.000000 Cost 0.824209 Weight 5.959518 Bias 0.049553\n",
            "Epochs 40.000000 Cost 0.025238 Weight 5.965776 Bias 0.049553\n",
            "Epochs 40.000000 Cost 0.053215 Weight 5.975213 Bias 0.049553\n",
            "Epochs 40.000000 Cost 0.034616 Weight 5.983109 Bias 0.049553\n",
            "Epochs 40.000000 Cost 0.329764 Weight 5.957842 Bias 0.049553\n",
            "Epochs 40.000000 Cost 0.002880 Weight 5.960288 Bias 0.049553\n",
            "Epochs 40.000000 Cost 0.371556 Weight 5.989054 Bias 0.049553\n",
            "Epochs 40.000000 Cost 0.008970 Weight 5.993678 Bias 0.049553\n",
            "Epochs 40.000000 Cost 1.009124 Weight 6.044395 Bias 0.049553\n",
            "Epochs 40.000000 Cost 1.025499 Weight 5.991555 Bias 0.049553\n",
            "Epochs 40.000000 Cost 2.425910 Weight 5.907602 Bias 0.049553\n",
            "Epochs 40.000000 Cost 1.470911 Weight 5.975102 Bias 0.049553\n",
            "Epochs 40.000000 Cost 0.068975 Weight 5.990189 Bias 0.049553\n",
            "Epochs 40.000000 Cost 0.136061 Weight 6.012050 Bias 0.049553\n",
            "Epochs 40.000000 Cost 0.017635 Weight 6.020167 Bias 0.049553\n",
            "Epochs 40.000000 Cost 0.020139 Weight 6.011223 Bias 0.049553\n",
            "Epochs 40.000000 Cost 0.048969 Weight 5.996847 Bias 0.049553\n",
            "Epochs 40.000000 Cost 0.069510 Weight 6.014497 Bias 0.049553\n",
            "Epochs 40.000000 Cost 0.003499 Weight 6.018577 Bias 0.049553\n",
            "Epochs 40.000000 Cost 0.385496 Weight 5.974465 Bias 0.049553\n",
            "Epochs 40.000000 Cost 0.011595 Weight 5.966586 Bias 0.049553\n",
            "Epochs 80.000000 Cost 0.786783 Weight 5.966586 Bias 0.049553\n",
            "Epochs 80.000000 Cost 0.666514 Weight 5.967586 Bias 0.049553\n",
            "Epochs 80.000000 Cost 0.596556 Weight 5.965693 Bias 0.049553\n",
            "Epochs 80.000000 Cost 0.576554 Weight 5.962902 Bias 0.049553\n",
            "Epochs 80.000000 Cost 0.381225 Weight 5.965930 Bias 0.049553\n",
            "Epochs 80.000000 Cost 0.372116 Weight 5.962188 Bias 0.049553\n",
            "Epochs 80.000000 Cost 1.134895 Weight 5.954340 Bias 0.049553\n",
            "Epochs 80.000000 Cost 0.106657 Weight 5.951531 Bias 0.049553\n",
            "Epochs 80.000000 Cost 0.408318 Weight 5.945241 Bias 0.049553\n",
            "Epochs 80.000000 Cost 0.662859 Weight 5.954268 Bias 0.049553\n",
            "Epochs 80.000000 Cost 0.017160 Weight 5.952652 Bias 0.049553\n",
            "Epochs 80.000000 Cost 1.464679 Weight 5.969102 Bias 0.049553\n",
            "Epochs 80.000000 Cost 0.932560 Weight 5.954758 Bias 0.049553\n",
            "Epochs 80.000000 Cost 0.412688 Weight 5.965115 Bias 0.049553\n",
            "Epochs 80.000000 Cost 0.630029 Weight 5.978925 Bias 0.049553\n",
            "Epochs 80.000000 Cost 0.013979 Weight 5.981134 Bias 0.049553\n",
            "Epochs 80.000000 Cost 0.107448 Weight 5.974586 Bias 0.049553\n",
            "Epochs 80.000000 Cost 0.211743 Weight 5.964795 Bias 0.049553\n",
            "Epochs 80.000000 Cost 0.264457 Weight 5.976412 Bias 0.049553\n",
            "Epochs 80.000000 Cost 0.181404 Weight 5.966227 Bias 0.049553\n",
            "Epochs 80.000000 Cost 0.065602 Weight 5.972693 Bias 0.049553\n",
            "Epochs 80.000000 Cost 1.232552 Weight 5.943169 Bias 0.049553\n",
            "Epochs 80.000000 Cost 0.010248 Weight 5.940340 Bias 0.049553\n",
            "Epochs 80.000000 Cost 0.708052 Weight 5.965016 Bias 0.049553\n",
            "Epochs 80.000000 Cost 0.033449 Weight 5.959399 Bias 0.049553\n",
            "Epochs 80.000000 Cost 0.070005 Weight 5.967897 Bias 0.049553\n",
            "Epochs 80.000000 Cost 0.005217 Weight 5.970319 Bias 0.049553\n",
            "Epochs 80.000000 Cost 2.525202 Weight 5.914745 Bias 0.049553\n",
            "Epochs 80.000000 Cost 0.080970 Weight 5.925110 Bias 0.049553\n",
            "Epochs 80.000000 Cost 0.824209 Weight 5.959518 Bias 0.049553\n",
            "Epochs 80.000000 Cost 0.025238 Weight 5.965776 Bias 0.049553\n",
            "Epochs 80.000000 Cost 0.053215 Weight 5.975213 Bias 0.049553\n",
            "Epochs 80.000000 Cost 0.034616 Weight 5.983109 Bias 0.049553\n",
            "Epochs 80.000000 Cost 0.329764 Weight 5.957842 Bias 0.049553\n",
            "Epochs 80.000000 Cost 0.002880 Weight 5.960288 Bias 0.049553\n",
            "Epochs 80.000000 Cost 0.371556 Weight 5.989054 Bias 0.049553\n",
            "Epochs 80.000000 Cost 0.008970 Weight 5.993678 Bias 0.049553\n",
            "Epochs 80.000000 Cost 1.009124 Weight 6.044395 Bias 0.049553\n",
            "Epochs 80.000000 Cost 1.025499 Weight 5.991555 Bias 0.049553\n",
            "Epochs 80.000000 Cost 2.425910 Weight 5.907602 Bias 0.049553\n",
            "Epochs 80.000000 Cost 1.470911 Weight 5.975102 Bias 0.049553\n",
            "Epochs 80.000000 Cost 0.068975 Weight 5.990189 Bias 0.049553\n",
            "Epochs 80.000000 Cost 0.136061 Weight 6.012050 Bias 0.049553\n",
            "Epochs 80.000000 Cost 0.017635 Weight 6.020167 Bias 0.049553\n",
            "Epochs 80.000000 Cost 0.020139 Weight 6.011223 Bias 0.049553\n",
            "Epochs 80.000000 Cost 0.048969 Weight 5.996847 Bias 0.049553\n",
            "Epochs 80.000000 Cost 0.069510 Weight 6.014497 Bias 0.049553\n",
            "Epochs 80.000000 Cost 0.003499 Weight 6.018577 Bias 0.049553\n",
            "Epochs 80.000000 Cost 0.385496 Weight 5.974465 Bias 0.049553\n",
            "Epochs 80.000000 Cost 0.011595 Weight 5.966586 Bias 0.049553\n",
            "Epochs 120.000000 Cost 0.786783 Weight 5.966586 Bias 0.049553\n",
            "Epochs 120.000000 Cost 0.666514 Weight 5.967586 Bias 0.049553\n",
            "Epochs 120.000000 Cost 0.596556 Weight 5.965693 Bias 0.049553\n",
            "Epochs 120.000000 Cost 0.576554 Weight 5.962902 Bias 0.049553\n",
            "Epochs 120.000000 Cost 0.381225 Weight 5.965930 Bias 0.049553\n",
            "Epochs 120.000000 Cost 0.372116 Weight 5.962188 Bias 0.049553\n",
            "Epochs 120.000000 Cost 1.134895 Weight 5.954340 Bias 0.049553\n",
            "Epochs 120.000000 Cost 0.106657 Weight 5.951531 Bias 0.049553\n",
            "Epochs 120.000000 Cost 0.408318 Weight 5.945241 Bias 0.049553\n",
            "Epochs 120.000000 Cost 0.662859 Weight 5.954268 Bias 0.049553\n",
            "Epochs 120.000000 Cost 0.017160 Weight 5.952652 Bias 0.049553\n",
            "Epochs 120.000000 Cost 1.464679 Weight 5.969102 Bias 0.049553\n",
            "Epochs 120.000000 Cost 0.932560 Weight 5.954758 Bias 0.049553\n",
            "Epochs 120.000000 Cost 0.412688 Weight 5.965115 Bias 0.049553\n",
            "Epochs 120.000000 Cost 0.630029 Weight 5.978925 Bias 0.049553\n",
            "Epochs 120.000000 Cost 0.013979 Weight 5.981134 Bias 0.049553\n",
            "Epochs 120.000000 Cost 0.107448 Weight 5.974586 Bias 0.049553\n",
            "Epochs 120.000000 Cost 0.211743 Weight 5.964795 Bias 0.049553\n",
            "Epochs 120.000000 Cost 0.264457 Weight 5.976412 Bias 0.049553\n",
            "Epochs 120.000000 Cost 0.181404 Weight 5.966227 Bias 0.049553\n",
            "Epochs 120.000000 Cost 0.065602 Weight 5.972693 Bias 0.049553\n",
            "Epochs 120.000000 Cost 1.232552 Weight 5.943169 Bias 0.049553\n",
            "Epochs 120.000000 Cost 0.010248 Weight 5.940340 Bias 0.049553\n",
            "Epochs 120.000000 Cost 0.708052 Weight 5.965016 Bias 0.049553\n",
            "Epochs 120.000000 Cost 0.033449 Weight 5.959399 Bias 0.049553\n",
            "Epochs 120.000000 Cost 0.070005 Weight 5.967897 Bias 0.049553\n",
            "Epochs 120.000000 Cost 0.005217 Weight 5.970319 Bias 0.049553\n",
            "Epochs 120.000000 Cost 2.525202 Weight 5.914745 Bias 0.049553\n",
            "Epochs 120.000000 Cost 0.080970 Weight 5.925110 Bias 0.049553\n",
            "Epochs 120.000000 Cost 0.824209 Weight 5.959518 Bias 0.049553\n",
            "Epochs 120.000000 Cost 0.025238 Weight 5.965776 Bias 0.049553\n",
            "Epochs 120.000000 Cost 0.053215 Weight 5.975213 Bias 0.049553\n",
            "Epochs 120.000000 Cost 0.034616 Weight 5.983109 Bias 0.049553\n",
            "Epochs 120.000000 Cost 0.329764 Weight 5.957842 Bias 0.049553\n",
            "Epochs 120.000000 Cost 0.002880 Weight 5.960288 Bias 0.049553\n",
            "Epochs 120.000000 Cost 0.371556 Weight 5.989054 Bias 0.049553\n",
            "Epochs 120.000000 Cost 0.008970 Weight 5.993678 Bias 0.049553\n",
            "Epochs 120.000000 Cost 1.009124 Weight 6.044395 Bias 0.049553\n",
            "Epochs 120.000000 Cost 1.025499 Weight 5.991555 Bias 0.049553\n",
            "Epochs 120.000000 Cost 2.425910 Weight 5.907602 Bias 0.049553\n",
            "Epochs 120.000000 Cost 1.470911 Weight 5.975102 Bias 0.049553\n",
            "Epochs 120.000000 Cost 0.068975 Weight 5.990189 Bias 0.049553\n",
            "Epochs 120.000000 Cost 0.136061 Weight 6.012050 Bias 0.049553\n",
            "Epochs 120.000000 Cost 0.017635 Weight 6.020167 Bias 0.049553\n",
            "Epochs 120.000000 Cost 0.020139 Weight 6.011223 Bias 0.049553\n",
            "Epochs 120.000000 Cost 0.048969 Weight 5.996847 Bias 0.049553\n",
            "Epochs 120.000000 Cost 0.069510 Weight 6.014497 Bias 0.049553\n",
            "Epochs 120.000000 Cost 0.003499 Weight 6.018577 Bias 0.049553\n",
            "Epochs 120.000000 Cost 0.385496 Weight 5.974465 Bias 0.049553\n",
            "Epochs 120.000000 Cost 0.011595 Weight 5.966586 Bias 0.049553\n",
            "Epochs 160.000000 Cost 0.786783 Weight 5.966586 Bias 0.049553\n",
            "Epochs 160.000000 Cost 0.666514 Weight 5.967586 Bias 0.049553\n",
            "Epochs 160.000000 Cost 0.596556 Weight 5.965693 Bias 0.049553\n",
            "Epochs 160.000000 Cost 0.576554 Weight 5.962902 Bias 0.049553\n",
            "Epochs 160.000000 Cost 0.381225 Weight 5.965930 Bias 0.049553\n",
            "Epochs 160.000000 Cost 0.372116 Weight 5.962188 Bias 0.049553\n",
            "Epochs 160.000000 Cost 1.134895 Weight 5.954340 Bias 0.049553\n",
            "Epochs 160.000000 Cost 0.106657 Weight 5.951531 Bias 0.049553\n",
            "Epochs 160.000000 Cost 0.408318 Weight 5.945241 Bias 0.049553\n",
            "Epochs 160.000000 Cost 0.662859 Weight 5.954268 Bias 0.049553\n",
            "Epochs 160.000000 Cost 0.017160 Weight 5.952652 Bias 0.049553\n",
            "Epochs 160.000000 Cost 1.464679 Weight 5.969102 Bias 0.049553\n",
            "Epochs 160.000000 Cost 0.932560 Weight 5.954758 Bias 0.049553\n",
            "Epochs 160.000000 Cost 0.412688 Weight 5.965115 Bias 0.049553\n",
            "Epochs 160.000000 Cost 0.630029 Weight 5.978925 Bias 0.049553\n",
            "Epochs 160.000000 Cost 0.013979 Weight 5.981134 Bias 0.049553\n",
            "Epochs 160.000000 Cost 0.107448 Weight 5.974586 Bias 0.049553\n",
            "Epochs 160.000000 Cost 0.211743 Weight 5.964795 Bias 0.049553\n",
            "Epochs 160.000000 Cost 0.264457 Weight 5.976412 Bias 0.049553\n",
            "Epochs 160.000000 Cost 0.181404 Weight 5.966227 Bias 0.049553\n",
            "Epochs 160.000000 Cost 0.065602 Weight 5.972693 Bias 0.049553\n",
            "Epochs 160.000000 Cost 1.232552 Weight 5.943169 Bias 0.049553\n",
            "Epochs 160.000000 Cost 0.010248 Weight 5.940340 Bias 0.049553\n",
            "Epochs 160.000000 Cost 0.708052 Weight 5.965016 Bias 0.049553\n",
            "Epochs 160.000000 Cost 0.033449 Weight 5.959399 Bias 0.049553\n",
            "Epochs 160.000000 Cost 0.070005 Weight 5.967897 Bias 0.049553\n",
            "Epochs 160.000000 Cost 0.005217 Weight 5.970319 Bias 0.049553\n",
            "Epochs 160.000000 Cost 2.525202 Weight 5.914745 Bias 0.049553\n",
            "Epochs 160.000000 Cost 0.080970 Weight 5.925110 Bias 0.049553\n",
            "Epochs 160.000000 Cost 0.824209 Weight 5.959518 Bias 0.049553\n",
            "Epochs 160.000000 Cost 0.025238 Weight 5.965776 Bias 0.049553\n",
            "Epochs 160.000000 Cost 0.053215 Weight 5.975213 Bias 0.049553\n",
            "Epochs 160.000000 Cost 0.034616 Weight 5.983109 Bias 0.049553\n",
            "Epochs 160.000000 Cost 0.329764 Weight 5.957842 Bias 0.049553\n",
            "Epochs 160.000000 Cost 0.002880 Weight 5.960288 Bias 0.049553\n",
            "Epochs 160.000000 Cost 0.371556 Weight 5.989054 Bias 0.049553\n",
            "Epochs 160.000000 Cost 0.008970 Weight 5.993678 Bias 0.049553\n",
            "Epochs 160.000000 Cost 1.009124 Weight 6.044395 Bias 0.049553\n",
            "Epochs 160.000000 Cost 1.025499 Weight 5.991555 Bias 0.049553\n",
            "Epochs 160.000000 Cost 2.425910 Weight 5.907602 Bias 0.049553\n",
            "Epochs 160.000000 Cost 1.470911 Weight 5.975102 Bias 0.049553\n",
            "Epochs 160.000000 Cost 0.068975 Weight 5.990189 Bias 0.049553\n",
            "Epochs 160.000000 Cost 0.136061 Weight 6.012050 Bias 0.049553\n",
            "Epochs 160.000000 Cost 0.017635 Weight 6.020167 Bias 0.049553\n",
            "Epochs 160.000000 Cost 0.020139 Weight 6.011223 Bias 0.049553\n",
            "Epochs 160.000000 Cost 0.048969 Weight 5.996847 Bias 0.049553\n",
            "Epochs 160.000000 Cost 0.069510 Weight 6.014497 Bias 0.049553\n",
            "Epochs 160.000000 Cost 0.003499 Weight 6.018577 Bias 0.049553\n",
            "Epochs 160.000000 Cost 0.385496 Weight 5.974465 Bias 0.049553\n",
            "Epochs 160.000000 Cost 0.011595 Weight 5.966586 Bias 0.049553\n",
            "Epochs 200.000000 Cost 0.786783 Weight 5.966586 Bias 0.049553\n",
            "Epochs 200.000000 Cost 0.666514 Weight 5.967586 Bias 0.049553\n",
            "Epochs 200.000000 Cost 0.596556 Weight 5.965693 Bias 0.049553\n",
            "Epochs 200.000000 Cost 0.576554 Weight 5.962902 Bias 0.049553\n",
            "Epochs 200.000000 Cost 0.381225 Weight 5.965930 Bias 0.049553\n",
            "Epochs 200.000000 Cost 0.372116 Weight 5.962188 Bias 0.049553\n",
            "Epochs 200.000000 Cost 1.134895 Weight 5.954340 Bias 0.049553\n",
            "Epochs 200.000000 Cost 0.106657 Weight 5.951531 Bias 0.049553\n",
            "Epochs 200.000000 Cost 0.408318 Weight 5.945241 Bias 0.049553\n",
            "Epochs 200.000000 Cost 0.662859 Weight 5.954268 Bias 0.049553\n",
            "Epochs 200.000000 Cost 0.017160 Weight 5.952652 Bias 0.049553\n",
            "Epochs 200.000000 Cost 1.464679 Weight 5.969102 Bias 0.049553\n",
            "Epochs 200.000000 Cost 0.932560 Weight 5.954758 Bias 0.049553\n",
            "Epochs 200.000000 Cost 0.412688 Weight 5.965115 Bias 0.049553\n",
            "Epochs 200.000000 Cost 0.630029 Weight 5.978925 Bias 0.049553\n",
            "Epochs 200.000000 Cost 0.013979 Weight 5.981134 Bias 0.049553\n",
            "Epochs 200.000000 Cost 0.107448 Weight 5.974586 Bias 0.049553\n",
            "Epochs 200.000000 Cost 0.211743 Weight 5.964795 Bias 0.049553\n",
            "Epochs 200.000000 Cost 0.264457 Weight 5.976412 Bias 0.049553\n",
            "Epochs 200.000000 Cost 0.181404 Weight 5.966227 Bias 0.049553\n",
            "Epochs 200.000000 Cost 0.065602 Weight 5.972693 Bias 0.049553\n",
            "Epochs 200.000000 Cost 1.232552 Weight 5.943169 Bias 0.049553\n",
            "Epochs 200.000000 Cost 0.010248 Weight 5.940340 Bias 0.049553\n",
            "Epochs 200.000000 Cost 0.708052 Weight 5.965016 Bias 0.049553\n",
            "Epochs 200.000000 Cost 0.033449 Weight 5.959399 Bias 0.049553\n",
            "Epochs 200.000000 Cost 0.070005 Weight 5.967897 Bias 0.049553\n",
            "Epochs 200.000000 Cost 0.005217 Weight 5.970319 Bias 0.049553\n",
            "Epochs 200.000000 Cost 2.525202 Weight 5.914745 Bias 0.049553\n",
            "Epochs 200.000000 Cost 0.080970 Weight 5.925110 Bias 0.049553\n",
            "Epochs 200.000000 Cost 0.824209 Weight 5.959518 Bias 0.049553\n",
            "Epochs 200.000000 Cost 0.025238 Weight 5.965776 Bias 0.049553\n",
            "Epochs 200.000000 Cost 0.053215 Weight 5.975213 Bias 0.049553\n",
            "Epochs 200.000000 Cost 0.034616 Weight 5.983109 Bias 0.049553\n",
            "Epochs 200.000000 Cost 0.329764 Weight 5.957842 Bias 0.049553\n",
            "Epochs 200.000000 Cost 0.002880 Weight 5.960288 Bias 0.049553\n",
            "Epochs 200.000000 Cost 0.371556 Weight 5.989054 Bias 0.049553\n",
            "Epochs 200.000000 Cost 0.008970 Weight 5.993678 Bias 0.049553\n",
            "Epochs 200.000000 Cost 1.009124 Weight 6.044395 Bias 0.049553\n",
            "Epochs 200.000000 Cost 1.025499 Weight 5.991555 Bias 0.049553\n",
            "Epochs 200.000000 Cost 2.425910 Weight 5.907602 Bias 0.049553\n",
            "Epochs 200.000000 Cost 1.470911 Weight 5.975102 Bias 0.049553\n",
            "Epochs 200.000000 Cost 0.068975 Weight 5.990189 Bias 0.049553\n",
            "Epochs 200.000000 Cost 0.136061 Weight 6.012050 Bias 0.049553\n",
            "Epochs 200.000000 Cost 0.017635 Weight 6.020167 Bias 0.049553\n",
            "Epochs 200.000000 Cost 0.020139 Weight 6.011223 Bias 0.049553\n",
            "Epochs 200.000000 Cost 0.048969 Weight 5.996847 Bias 0.049553\n",
            "Epochs 200.000000 Cost 0.069510 Weight 6.014497 Bias 0.049553\n",
            "Epochs 200.000000 Cost 0.003499 Weight 6.018577 Bias 0.049553\n",
            "Epochs 200.000000 Cost 0.385496 Weight 5.974465 Bias 0.049553\n",
            "Epochs 200.000000 Cost 0.011595 Weight 5.966586 Bias 0.049553\n",
            "Epochs 240.000000 Cost 0.786783 Weight 5.966586 Bias 0.049553\n",
            "Epochs 240.000000 Cost 0.666514 Weight 5.967586 Bias 0.049553\n",
            "Epochs 240.000000 Cost 0.596556 Weight 5.965693 Bias 0.049553\n",
            "Epochs 240.000000 Cost 0.576554 Weight 5.962902 Bias 0.049553\n",
            "Epochs 240.000000 Cost 0.381225 Weight 5.965930 Bias 0.049553\n",
            "Epochs 240.000000 Cost 0.372116 Weight 5.962188 Bias 0.049553\n",
            "Epochs 240.000000 Cost 1.134895 Weight 5.954340 Bias 0.049553\n",
            "Epochs 240.000000 Cost 0.106657 Weight 5.951531 Bias 0.049553\n",
            "Epochs 240.000000 Cost 0.408318 Weight 5.945241 Bias 0.049553\n",
            "Epochs 240.000000 Cost 0.662859 Weight 5.954268 Bias 0.049553\n",
            "Epochs 240.000000 Cost 0.017160 Weight 5.952652 Bias 0.049553\n",
            "Epochs 240.000000 Cost 1.464679 Weight 5.969102 Bias 0.049553\n",
            "Epochs 240.000000 Cost 0.932560 Weight 5.954758 Bias 0.049553\n",
            "Epochs 240.000000 Cost 0.412688 Weight 5.965115 Bias 0.049553\n",
            "Epochs 240.000000 Cost 0.630029 Weight 5.978925 Bias 0.049553\n",
            "Epochs 240.000000 Cost 0.013979 Weight 5.981134 Bias 0.049553\n",
            "Epochs 240.000000 Cost 0.107448 Weight 5.974586 Bias 0.049553\n",
            "Epochs 240.000000 Cost 0.211743 Weight 5.964795 Bias 0.049553\n",
            "Epochs 240.000000 Cost 0.264457 Weight 5.976412 Bias 0.049553\n",
            "Epochs 240.000000 Cost 0.181404 Weight 5.966227 Bias 0.049553\n",
            "Epochs 240.000000 Cost 0.065602 Weight 5.972693 Bias 0.049553\n",
            "Epochs 240.000000 Cost 1.232552 Weight 5.943169 Bias 0.049553\n",
            "Epochs 240.000000 Cost 0.010248 Weight 5.940340 Bias 0.049553\n",
            "Epochs 240.000000 Cost 0.708052 Weight 5.965016 Bias 0.049553\n",
            "Epochs 240.000000 Cost 0.033449 Weight 5.959399 Bias 0.049553\n",
            "Epochs 240.000000 Cost 0.070005 Weight 5.967897 Bias 0.049553\n",
            "Epochs 240.000000 Cost 0.005217 Weight 5.970319 Bias 0.049553\n",
            "Epochs 240.000000 Cost 2.525202 Weight 5.914745 Bias 0.049553\n",
            "Epochs 240.000000 Cost 0.080970 Weight 5.925110 Bias 0.049553\n",
            "Epochs 240.000000 Cost 0.824209 Weight 5.959518 Bias 0.049553\n",
            "Epochs 240.000000 Cost 0.025238 Weight 5.965776 Bias 0.049553\n",
            "Epochs 240.000000 Cost 0.053215 Weight 5.975213 Bias 0.049553\n",
            "Epochs 240.000000 Cost 0.034616 Weight 5.983109 Bias 0.049553\n",
            "Epochs 240.000000 Cost 0.329764 Weight 5.957842 Bias 0.049553\n",
            "Epochs 240.000000 Cost 0.002880 Weight 5.960288 Bias 0.049553\n",
            "Epochs 240.000000 Cost 0.371556 Weight 5.989054 Bias 0.049553\n",
            "Epochs 240.000000 Cost 0.008970 Weight 5.993678 Bias 0.049553\n",
            "Epochs 240.000000 Cost 1.009124 Weight 6.044395 Bias 0.049553\n",
            "Epochs 240.000000 Cost 1.025499 Weight 5.991555 Bias 0.049553\n",
            "Epochs 240.000000 Cost 2.425910 Weight 5.907602 Bias 0.049553\n",
            "Epochs 240.000000 Cost 1.470911 Weight 5.975102 Bias 0.049553\n",
            "Epochs 240.000000 Cost 0.068975 Weight 5.990189 Bias 0.049553\n",
            "Epochs 240.000000 Cost 0.136061 Weight 6.012050 Bias 0.049553\n",
            "Epochs 240.000000 Cost 0.017635 Weight 6.020167 Bias 0.049553\n",
            "Epochs 240.000000 Cost 0.020139 Weight 6.011223 Bias 0.049553\n",
            "Epochs 240.000000 Cost 0.048969 Weight 5.996847 Bias 0.049553\n",
            "Epochs 240.000000 Cost 0.069510 Weight 6.014497 Bias 0.049553\n",
            "Epochs 240.000000 Cost 0.003499 Weight 6.018577 Bias 0.049553\n",
            "Epochs 240.000000 Cost 0.385496 Weight 5.974465 Bias 0.049553\n",
            "Epochs 240.000000 Cost 0.011595 Weight 5.966586 Bias 0.049553\n",
            "Epochs 280.000000 Cost 0.786783 Weight 5.966586 Bias 0.049553\n",
            "Epochs 280.000000 Cost 0.666514 Weight 5.967586 Bias 0.049553\n",
            "Epochs 280.000000 Cost 0.596556 Weight 5.965693 Bias 0.049553\n",
            "Epochs 280.000000 Cost 0.576554 Weight 5.962902 Bias 0.049553\n",
            "Epochs 280.000000 Cost 0.381225 Weight 5.965930 Bias 0.049553\n",
            "Epochs 280.000000 Cost 0.372116 Weight 5.962188 Bias 0.049553\n",
            "Epochs 280.000000 Cost 1.134895 Weight 5.954340 Bias 0.049553\n",
            "Epochs 280.000000 Cost 0.106657 Weight 5.951531 Bias 0.049553\n",
            "Epochs 280.000000 Cost 0.408318 Weight 5.945241 Bias 0.049553\n",
            "Epochs 280.000000 Cost 0.662859 Weight 5.954268 Bias 0.049553\n",
            "Epochs 280.000000 Cost 0.017160 Weight 5.952652 Bias 0.049553\n",
            "Epochs 280.000000 Cost 1.464679 Weight 5.969102 Bias 0.049553\n",
            "Epochs 280.000000 Cost 0.932560 Weight 5.954758 Bias 0.049553\n",
            "Epochs 280.000000 Cost 0.412688 Weight 5.965115 Bias 0.049553\n",
            "Epochs 280.000000 Cost 0.630029 Weight 5.978925 Bias 0.049553\n",
            "Epochs 280.000000 Cost 0.013979 Weight 5.981134 Bias 0.049553\n",
            "Epochs 280.000000 Cost 0.107448 Weight 5.974586 Bias 0.049553\n",
            "Epochs 280.000000 Cost 0.211743 Weight 5.964795 Bias 0.049553\n",
            "Epochs 280.000000 Cost 0.264457 Weight 5.976412 Bias 0.049553\n",
            "Epochs 280.000000 Cost 0.181404 Weight 5.966227 Bias 0.049553\n",
            "Epochs 280.000000 Cost 0.065602 Weight 5.972693 Bias 0.049553\n",
            "Epochs 280.000000 Cost 1.232552 Weight 5.943169 Bias 0.049553\n",
            "Epochs 280.000000 Cost 0.010248 Weight 5.940340 Bias 0.049553\n",
            "Epochs 280.000000 Cost 0.708052 Weight 5.965016 Bias 0.049553\n",
            "Epochs 280.000000 Cost 0.033449 Weight 5.959399 Bias 0.049553\n",
            "Epochs 280.000000 Cost 0.070005 Weight 5.967897 Bias 0.049553\n",
            "Epochs 280.000000 Cost 0.005217 Weight 5.970319 Bias 0.049553\n",
            "Epochs 280.000000 Cost 2.525202 Weight 5.914745 Bias 0.049553\n",
            "Epochs 280.000000 Cost 0.080970 Weight 5.925110 Bias 0.049553\n",
            "Epochs 280.000000 Cost 0.824209 Weight 5.959518 Bias 0.049553\n",
            "Epochs 280.000000 Cost 0.025238 Weight 5.965776 Bias 0.049553\n",
            "Epochs 280.000000 Cost 0.053215 Weight 5.975213 Bias 0.049553\n",
            "Epochs 280.000000 Cost 0.034616 Weight 5.983109 Bias 0.049553\n",
            "Epochs 280.000000 Cost 0.329764 Weight 5.957842 Bias 0.049553\n",
            "Epochs 280.000000 Cost 0.002880 Weight 5.960288 Bias 0.049553\n",
            "Epochs 280.000000 Cost 0.371556 Weight 5.989054 Bias 0.049553\n",
            "Epochs 280.000000 Cost 0.008970 Weight 5.993678 Bias 0.049553\n",
            "Epochs 280.000000 Cost 1.009124 Weight 6.044395 Bias 0.049553\n",
            "Epochs 280.000000 Cost 1.025499 Weight 5.991555 Bias 0.049553\n",
            "Epochs 280.000000 Cost 2.425910 Weight 5.907602 Bias 0.049553\n",
            "Epochs 280.000000 Cost 1.470911 Weight 5.975102 Bias 0.049553\n",
            "Epochs 280.000000 Cost 0.068975 Weight 5.990189 Bias 0.049553\n",
            "Epochs 280.000000 Cost 0.136061 Weight 6.012050 Bias 0.049553\n",
            "Epochs 280.000000 Cost 0.017635 Weight 6.020167 Bias 0.049553\n",
            "Epochs 280.000000 Cost 0.020139 Weight 6.011223 Bias 0.049553\n",
            "Epochs 280.000000 Cost 0.048969 Weight 5.996847 Bias 0.049553\n",
            "Epochs 280.000000 Cost 0.069510 Weight 6.014497 Bias 0.049553\n",
            "Epochs 280.000000 Cost 0.003499 Weight 6.018577 Bias 0.049553\n",
            "Epochs 280.000000 Cost 0.385496 Weight 5.974465 Bias 0.049553\n",
            "Epochs 280.000000 Cost 0.011595 Weight 5.966586 Bias 0.049553\n"
          ]
        },
        {
          "output_type": "display_data",
          "data": {
            "text/plain": [
              "<Figure size 432x288 with 1 Axes>"
            ],
            "image/png": "[encoded data removed]"
          },
          "metadata": {
            "needs_background": "light"
          }
        }
      ]
    },
    {
      "cell_type": "markdown",
      "source": [
        "# New Section"
      ],
      "metadata": {
        "id": "20z9tPwO8cCi"
      }
    },
    {
      "cell_type": "code",
      "source": [
        "pip install tensorflow==1.15.5"
      ],
      "metadata": {
        "colab": {
          "base_uri": "https://localhost:8080/"
        },
        "id": "pcnhmBD48dO6",
        "outputId": "33a14200-7415-4aca-ba83-a86ad902a709"
      },
      "execution_count": 11,
      "outputs": [
        {
          "output_type": "stream",
          "name": "stdout",
          "text": [
            "Looking in indexes: https://pypi.org/simple, https://us-python.pkg.dev/colab-wheels/public/simple/\n",
            "Requirement already satisfied: tensorflow==1.15.5 in /usr/local/lib/python3.7/dist-packages (1.15.5)\n",
            "Requirement already satisfied: keras-preprocessing>=1.0.5 in /usr/local/lib/python3.7/dist-packages (from tensorflow==1.15.5) (1.1.2)\n",
            "Requirement already satisfied: google-pasta>=0.1.6 in /usr/local/lib/python3.7/dist-packages (from tensorflow==1.15.5) (0.2.0)\n",
            "Requirement already satisfied: wheel>=0.26 in /usr/local/lib/python3.7/dist-packages (from tensorflow==1.15.5) (0.37.1)\n",
            "Requirement already satisfied: keras-applications>=1.0.8 in /usr/local/lib/python3.7/dist-packages (from tensorflow==1.15.5) (1.0.8)\n",
            "Requirement already satisfied: wrapt>=1.11.1 in /usr/local/lib/python3.7/dist-packages (from tensorflow==1.15.5) (1.14.1)\n",
            "Requirement already satisfied: tensorboard<1.16.0,>=1.15.0 in /usr/local/lib/python3.7/dist-packages (from tensorflow==1.15.5) (1.15.0)\n",
            "Requirement already satisfied: six>=1.10.0 in /usr/local/lib/python3.7/dist-packages (from tensorflow==1.15.5) (1.15.0)\n",
            "Requirement already satisfied: termcolor>=1.1.0 in /usr/local/lib/python3.7/dist-packages (from tensorflow==1.15.5) (2.0.1)\n",
            "Requirement already satisfied: gast==0.2.2 in /usr/local/lib/python3.7/dist-packages (from tensorflow==1.15.5) (0.2.2)\n",
            "Requirement already satisfied: tensorflow-estimator==1.15.1 in /usr/local/lib/python3.7/dist-packages (from tensorflow==1.15.5) (1.15.1)\n",
            "Requirement already satisfied: opt-einsum>=2.3.2 in /usr/local/lib/python3.7/dist-packages (from tensorflow==1.15.5) (3.3.0)\n",
            "Requirement already satisfied: protobuf>=3.6.1 in /usr/local/lib/python3.7/dist-packages (from tensorflow==1.15.5) (3.17.3)\n",
            "Requirement already satisfied: h5py<=2.10.0 in /usr/local/lib/python3.7/dist-packages (from tensorflow==1.15.5) (2.10.0)\n",
            "Requirement already satisfied: numpy<1.19.0,>=1.16.0 in /usr/local/lib/python3.7/dist-packages (from tensorflow==1.15.5) (1.18.5)\n",
            "Requirement already satisfied: absl-py>=0.7.0 in /usr/local/lib/python3.7/dist-packages (from tensorflow==1.15.5) (1.2.0)\n",
            "Requirement already satisfied: astor>=0.6.0 in /usr/local/lib/python3.7/dist-packages (from tensorflow==1.15.5) (0.8.1)\n",
            "Requirement already satisfied: grpcio>=1.8.6 in /usr/local/lib/python3.7/dist-packages (from tensorflow==1.15.5) (1.49.1)\n",
            "Requirement already satisfied: setuptools>=41.0.0 in /usr/local/lib/python3.7/dist-packages (from tensorboard<1.16.0,>=1.15.0->tensorflow==1.15.5) (57.4.0)\n",
            "Requirement already satisfied: werkzeug>=0.11.15 in /usr/local/lib/python3.7/dist-packages (from tensorboard<1.16.0,>=1.15.0->tensorflow==1.15.5) (1.0.1)\n",
            "Requirement already satisfied: markdown>=2.6.8 in /usr/local/lib/python3.7/dist-packages (from tensorboard<1.16.0,>=1.15.0->tensorflow==1.15.5) (3.4.1)\n",
            "Requirement already satisfied: importlib-metadata>=4.4 in /usr/local/lib/python3.7/dist-packages (from markdown>=2.6.8->tensorboard<1.16.0,>=1.15.0->tensorflow==1.15.5) (5.0.0)\n",
            "Requirement already satisfied: typing-extensions>=3.6.4 in /usr/local/lib/python3.7/dist-packages (from importlib-metadata>=4.4->markdown>=2.6.8->tensorboard<1.16.0,>=1.15.0->tensorflow==1.15.5) (4.1.1)\n",
            "Requirement already satisfied: zipp>=0.5 in /usr/local/lib/python3.7/dist-packages (from importlib-metadata>=4.4->markdown>=2.6.8->tensorboard<1.16.0,>=1.15.0->tensorflow==1.15.5) (3.9.0)\n"
          ]
        }
      ]
    },
    {
      "cell_type": "code",
      "source": [
        "!wget https://bin.equinox.io/c/bNyj1mQVY4c/ngrok-v3-stable-linux-amd64.zip"
      ],
      "metadata": {
        "colab": {
          "base_uri": "https://localhost:8080/"
        },
        "id": "IoC32CBr8gdk",
        "outputId": "957c751d-c6df-455a-8e13-b3e82c356b7c"
      },
      "execution_count": 12,
      "outputs": [
        {
          "output_type": "stream",
          "name": "stdout",
          "text": [
            "--2022-10-16 04:02:22--  https://bin.equinox.io/c/bNyj1mQVY4c/ngrok-v3-stable-linux-amd64.zip\n",
            "Resolving bin.equinox.io (bin.equinox.io)... 52.202.168.65, 54.161.241.46, 18.205.222.128, ...\n",
            "Connecting to bin.equinox.io (bin.equinox.io)|52.202.168.65|:443... connected.\n",
            "HTTP request sent, awaiting response... 200 OK\n",
            "Length: 8454063 (8.1M) [application/octet-stream]\n",
            "Saving to: ‘ngrok-v3-stable-linux-amd64.zip’\n",
            "\n",
            "ngrok-v3-stable-lin 100%[===================>]   8.06M  27.4MB/s    in 0.3s    \n",
            "\n",
            "2022-10-16 04:02:22 (27.4 MB/s) - ‘ngrok-v3-stable-linux-amd64.zip’ saved [8454063/8454063]\n",
            "\n"
          ]
        }
      ]
    },
    {
      "cell_type": "code",
      "source": [
        "!unzip ngrok-v3-stable-linux-amd64.zip"
      ],
      "metadata": {
        "colab": {
          "base_uri": "https://localhost:8080/"
        },
        "id": "a4IzbU-98iaU",
        "outputId": "872f639b-b2d3-4aff-8b63-5681cb150e89"
      },
      "execution_count": 13,
      "outputs": [
        {
          "output_type": "stream",
          "name": "stdout",
          "text": [
            "Archive:  ngrok-v3-stable-linux-amd64.zip\n",
            "  inflating: ngrok                   \n"
          ]
        }
      ]
    },
    {
      "cell_type": "code",
      "source": [
        "LOG_DIR = './log'\n",
        "get_ipython().system_raw(\n",
        "    'tensorboard --logdir {} --host 0.0.0.0 --port 6006 &'\n",
        "    .format(LOG_DIR)\n",
        ")"
      ],
      "metadata": {
        "id": "bu-3dLSJ8kPU"
      },
      "execution_count": 14,
      "outputs": []
    },
    {
      "cell_type": "code",
      "source": [
        "get_ipython().system_raw('./ngrok http 6006 &')"
      ],
      "metadata": {
        "id": "nX3aVaIt8l_j"
      },
      "execution_count": 15,
      "outputs": []
    },
    {
      "cell_type": "code",
      "source": [
        "! curl -s http://localhost:4040/api/tunnels | python3 -c \\\n",
        "    \"import sys, json; print(json.load(sys.stdin)['tunnels'][0]['public_url'])\""
      ],
      "metadata": {
        "colab": {
          "base_uri": "https://localhost:8080/"
        },
        "id": "1QpWqV348n6t",
        "outputId": "43576a04-6fb9-46ae-cfa4-78e69b10d5ed"
      },
      "execution_count": 16,
      "outputs": [
        {
          "output_type": "stream",
          "name": "stdout",
          "text": [
            "https://b6e7-23-236-58-42.ngrok.io\n"
          ]
        }
      ]
    },
    {
      "cell_type": "code",
      "source": [
        "pip install tensorflow==1.15.5"
      ],
      "metadata": {
        "colab": {
          "base_uri": "https://localhost:8080/"
        },
        "id": "mwSXOYVx8sKj",
        "outputId": "fee5cf4d-2809-4364-a4bc-ca535a90f2a7"
      },
      "execution_count": 17,
      "outputs": [
        {
          "output_type": "stream",
          "name": "stdout",
          "text": [
            "Looking in indexes: https://pypi.org/simple, https://us-python.pkg.dev/colab-wheels/public/simple/\n",
            "Requirement already satisfied: tensorflow==1.15.5 in /usr/local/lib/python3.7/dist-packages (1.15.5)\n",
            "Requirement already satisfied: six>=1.10.0 in /usr/local/lib/python3.7/dist-packages (from tensorflow==1.15.5) (1.15.0)\n",
            "Requirement already satisfied: tensorboard<1.16.0,>=1.15.0 in /usr/local/lib/python3.7/dist-packages (from tensorflow==1.15.5) (1.15.0)\n",
            "Requirement already satisfied: keras-preprocessing>=1.0.5 in /usr/local/lib/python3.7/dist-packages (from tensorflow==1.15.5) (1.1.2)\n",
            "Requirement already satisfied: protobuf>=3.6.1 in /usr/local/lib/python3.7/dist-packages (from tensorflow==1.15.5) (3.17.3)\n",
            "Requirement already satisfied: astor>=0.6.0 in /usr/local/lib/python3.7/dist-packages (from tensorflow==1.15.5) (0.8.1)\n",
            "Requirement already satisfied: numpy<1.19.0,>=1.16.0 in /usr/local/lib/python3.7/dist-packages (from tensorflow==1.15.5) (1.18.5)\n",
            "Requirement already satisfied: h5py<=2.10.0 in /usr/local/lib/python3.7/dist-packages (from tensorflow==1.15.5) (2.10.0)\n",
            "Requirement already satisfied: grpcio>=1.8.6 in /usr/local/lib/python3.7/dist-packages (from tensorflow==1.15.5) (1.49.1)\n",
            "Requirement already satisfied: google-pasta>=0.1.6 in /usr/local/lib/python3.7/dist-packages (from tensorflow==1.15.5) (0.2.0)\n",
            "Requirement already satisfied: gast==0.2.2 in /usr/local/lib/python3.7/dist-packages (from tensorflow==1.15.5) (0.2.2)\n",
            "Requirement already satisfied: opt-einsum>=2.3.2 in /usr/local/lib/python3.7/dist-packages (from tensorflow==1.15.5) (3.3.0)\n",
            "Requirement already satisfied: wrapt>=1.11.1 in /usr/local/lib/python3.7/dist-packages (from tensorflow==1.15.5) (1.14.1)\n",
            "Requirement already satisfied: tensorflow-estimator==1.15.1 in /usr/local/lib/python3.7/dist-packages (from tensorflow==1.15.5) (1.15.1)\n",
            "Requirement already satisfied: keras-applications>=1.0.8 in /usr/local/lib/python3.7/dist-packages (from tensorflow==1.15.5) (1.0.8)\n",
            "Requirement already satisfied: termcolor>=1.1.0 in /usr/local/lib/python3.7/dist-packages (from tensorflow==1.15.5) (2.0.1)\n",
            "Requirement already satisfied: absl-py>=0.7.0 in /usr/local/lib/python3.7/dist-packages (from tensorflow==1.15.5) (1.2.0)\n",
            "Requirement already satisfied: wheel>=0.26 in /usr/local/lib/python3.7/dist-packages (from tensorflow==1.15.5) (0.37.1)\n",
            "Requirement already satisfied: setuptools>=41.0.0 in /usr/local/lib/python3.7/dist-packages (from tensorboard<1.16.0,>=1.15.0->tensorflow==1.15.5) (57.4.0)\n",
            "Requirement already satisfied: markdown>=2.6.8 in /usr/local/lib/python3.7/dist-packages (from tensorboard<1.16.0,>=1.15.0->tensorflow==1.15.5) (3.4.1)\n",
            "Requirement already satisfied: werkzeug>=0.11.15 in /usr/local/lib/python3.7/dist-packages (from tensorboard<1.16.0,>=1.15.0->tensorflow==1.15.5) (1.0.1)\n",
            "Requirement already satisfied: importlib-metadata>=4.4 in /usr/local/lib/python3.7/dist-packages (from markdown>=2.6.8->tensorboard<1.16.0,>=1.15.0->tensorflow==1.15.5) (5.0.0)\n",
            "Requirement already satisfied: typing-extensions>=3.6.4 in /usr/local/lib/python3.7/dist-packages (from importlib-metadata>=4.4->markdown>=2.6.8->tensorboard<1.16.0,>=1.15.0->tensorflow==1.15.5) (4.1.1)\n",
            "Requirement already satisfied: zipp>=0.5 in /usr/local/lib/python3.7/dist-packages (from importlib-metadata>=4.4->markdown>=2.6.8->tensorboard<1.16.0,>=1.15.0->tensorflow==1.15.5) (3.9.0)\n"
          ]
        }
      ]
    },
    {
      "cell_type": "code",
      "source": [
        "import cv2\n",
        "import matplotlib.pyplot as plt\n",
        "import numpy as np\n",
        "import tensorflow as tf"
      ],
      "metadata": {
        "id": "ABOdKjt28ty0"
      },
      "execution_count": 18,
      "outputs": []
    },
    {
      "cell_type": "code",
      "source": [
        "from tensorflow.examples.tutorials.mnist import input_data\n",
        "mnist_data = input_data.read_data_sets(\"./data\", one_hot = True)"
      ],
      "metadata": {
        "colab": {
          "base_uri": "https://localhost:8080/"
        },
        "id": "JJJiESNj8vrE",
        "outputId": "dc6d6148-4156-4647-c9b0-d1e165ee4cfa"
      },
      "execution_count": 19,
      "outputs": [
        {
          "output_type": "stream",
          "name": "stderr",
          "text": [
            "WARNING:tensorflow:From <ipython-input-19-4cf8105ac99b>:2: read_data_sets (from tensorflow.contrib.learn.python.learn.datasets.mnist) is deprecated and will be removed in a future version.\n",
            "Instructions for updating:\n",
            "Please use alternatives such as official/mnist/dataset.py from tensorflow/models.\n",
            "WARNING:tensorflow:From /usr/local/lib/python3.7/dist-packages/tensorflow_core/contrib/learn/python/learn/datasets/mnist.py:260: maybe_download (from tensorflow.contrib.learn.python.learn.datasets.base) is deprecated and will be removed in a future version.\n",
            "Instructions for updating:\n",
            "Please write your own downloading logic.\n",
            "WARNING:tensorflow:From /usr/local/lib/python3.7/dist-packages/tensorflow_core/contrib/learn/python/learn/datasets/base.py:252: _internal_retry.<locals>.wrap.<locals>.wrapped_fn (from tensorflow.contrib.learn.python.learn.datasets.base) is deprecated and will be removed in a future version.\n",
            "Instructions for updating:\n",
            "Please use urllib or similar directly.\n",
            "WARNING:tensorflow:From /usr/local/lib/python3.7/dist-packages/tensorflow_core/contrib/learn/python/learn/datasets/mnist.py:262: extract_images (from tensorflow.contrib.learn.python.learn.datasets.mnist) is deprecated and will be removed in a future version.\n",
            "Instructions for updating:\n",
            "Please use tf.data to implement this functionality.\n"
          ]
        },
        {
          "output_type": "stream",
          "name": "stdout",
          "text": [
            "Successfully downloaded train-images-idx3-ubyte.gz 9912422 bytes.\n",
            "Extracting ./data/train-images-idx3-ubyte.gz\n"
          ]
        },
        {
          "output_type": "stream",
          "name": "stderr",
          "text": [
            "WARNING:tensorflow:From /usr/local/lib/python3.7/dist-packages/tensorflow_core/contrib/learn/python/learn/datasets/mnist.py:267: extract_labels (from tensorflow.contrib.learn.python.learn.datasets.mnist) is deprecated and will be removed in a future version.\n",
            "Instructions for updating:\n",
            "Please use tf.data to implement this functionality.\n",
            "WARNING:tensorflow:From /usr/local/lib/python3.7/dist-packages/tensorflow_core/contrib/learn/python/learn/datasets/mnist.py:110: dense_to_one_hot (from tensorflow.contrib.learn.python.learn.datasets.mnist) is deprecated and will be removed in a future version.\n",
            "Instructions for updating:\n",
            "Please use tf.one_hot on tensors.\n",
            "WARNING:tensorflow:From /usr/local/lib/python3.7/dist-packages/tensorflow_core/contrib/learn/python/learn/datasets/mnist.py:290: DataSet.__init__ (from tensorflow.contrib.learn.python.learn.datasets.mnist) is deprecated and will be removed in a future version.\n",
            "Instructions for updating:\n",
            "Please use alternatives such as official/mnist/dataset.py from tensorflow/models.\n"
          ]
        },
        {
          "output_type": "stream",
          "name": "stdout",
          "text": [
            "Successfully downloaded train-labels-idx1-ubyte.gz 28881 bytes.\n",
            "Extracting ./data/train-labels-idx1-ubyte.gz\n",
            "Successfully downloaded t10k-images-idx3-ubyte.gz 1648877 bytes.\n",
            "Extracting ./data/t10k-images-idx3-ubyte.gz\n",
            "Successfully downloaded t10k-labels-idx1-ubyte.gz 4542 bytes.\n",
            "Extracting ./data/t10k-labels-idx1-ubyte.gz\n"
          ]
        }
      ]
    },
    {
      "cell_type": "code",
      "source": [
        "num_training = mnist_data.train.num_examples\n",
        "num_testing = mnist_data.test.num_examples\n",
        "num_validation = mnist_data.validation.num_examples\n",
        "print(\"MNIST Datasize: Training samples: {0}, Testing samples: {1}\")"
      ],
      "metadata": {
        "colab": {
          "base_uri": "https://localhost:8080/"
        },
        "id": "H_K7bmmS8xWj",
        "outputId": "9e97f9cf-bfa3-44eb-85bc-951161e4deec"
      },
      "execution_count": 20,
      "outputs": [
        {
          "output_type": "stream",
          "name": "stdout",
          "text": [
            "MNIST Datasize: Training samples: {0}, Testing samples: {1}\n"
          ]
        }
      ]
    },
    {
      "cell_type": "code",
      "source": [
        "n_input = 784\n",
        "n_hidden_1 = 512\n",
        "n_hidden_2 = 256\n",
        "n_hidden_3 = 128\n",
        "n_output = 10"
      ],
      "metadata": {
        "id": "-9ZyA-DO8zXO"
      },
      "execution_count": 21,
      "outputs": []
    },
    {
      "cell_type": "code",
      "source": [
        "learning_rate = 1e-4\n",
        "epochs = 3000\n",
        "batch_size = 128\n",
        "keep_prob = tf.placeholder(tf.float32)"
      ],
      "metadata": {
        "id": "Bp4448vu81RL"
      },
      "execution_count": 22,
      "outputs": []
    },
    {
      "cell_type": "code",
      "source": [
        "X = tf.placeholder(tf.float32, [None, n_input])\n",
        "Y = tf.placeholder(tf.float32, [None, n_output])"
      ],
      "metadata": {
        "id": "7u3Fu2Dk83OD"
      },
      "execution_count": 23,
      "outputs": []
    },
    {
      "cell_type": "code",
      "source": [
        "nn_weight = {\"W1\": tf.Variable(tf.truncated_normal([n_input, n_hidden_1], stddev = 0.1)),\n",
        "             \"W2\": tf.Variable(tf.truncated_normal([n_hidden_1, n_hidden_2], stddev = 0.1)),\n",
        "             \"W3\": tf.Variable(tf.truncated_normal([n_hidden_2, n_hidden_3], stddev = 0.1)),\n",
        "             \"Wout\":tf.Variable(tf.truncated_normal([n_hidden_3, n_output]))\n",
        "}\n",
        "\n",
        "nn_bias = { \"B1\": tf.Variable(tf.truncated_normal([n_hidden_1])),\n",
        "            \"B2\": tf.Variable(tf.truncated_normal([n_hidden_2])),\n",
        "            \"B3\": tf.Variable(tf.truncated_normal([n_hidden_3])),\n",
        "            \"B4\": tf.Variable(tf.truncated_normal([n_output])),  \n",
        "           }"
      ],
      "metadata": {
        "id": "UaWUJXzL8421"
      },
      "execution_count": 24,
      "outputs": []
    },
    {
      "cell_type": "code",
      "source": [
        "nn_layer_1 = tf.add(tf.matmul(X, nn_weight[\"W1\"]),nn_bias[\"B1\"])\n",
        "nn_layer_2 = tf.add(tf.matmul(nn_layer_1, nn_weight[\"W2\"]),nn_bias[\"B2\"])\n",
        "nn_layer_3 = tf.add(tf.matmul(nn_layer_2, nn_weight[\"W3\"]),nn_bias[\"B3\"])\n",
        "layer_drop = tf.nn.dropout(nn_layer_3, keep_prob)\n",
        "output_layer = tf.add(tf.matmul(layer_drop, nn_weight[\"Wout\"]), nn_bias[\"B4\"])"
      ],
      "metadata": {
        "colab": {
          "base_uri": "https://localhost:8080/"
        },
        "id": "JhMcXsPE860M",
        "outputId": "c059c788-f15b-4001-d024-729629402c08"
      },
      "execution_count": 25,
      "outputs": [
        {
          "output_type": "stream",
          "name": "stderr",
          "text": [
            "WARNING:tensorflow:From <ipython-input-25-7479a4162d01>:4: calling dropout (from tensorflow.python.ops.nn_ops) with keep_prob is deprecated and will be removed in a future version.\n",
            "Instructions for updating:\n",
            "Please use `rate` instead of `keep_prob`. Rate should be set to `rate = 1 - keep_prob`.\n"
          ]
        }
      ]
    },
    {
      "cell_type": "code",
      "source": [
        "computed_loss = tf.reduce_mean(tf.nn.softmax_cross_entropy_with_logits_v2(logits = output_layer, labels = Y))\n",
        "\n",
        "optimizer = tf.train.GradientDescentOptimizer(learning_rate = learning_rate).minimize(computed_loss)\n",
        "\n",
        "prediction_out = tf.equal(tf.argmax(output_layer,1), tf.argmax(Y,1))\n",
        "\n",
        "nn_accuracy = tf.reduce_mean(tf.cast(prediction_out, tf.float32))\n",
        "\n",
        "init = tf.global_variables_initializer()\n",
        "\n",
        "saver = tf.train.Saver()"
      ],
      "metadata": {
        "id": "BENC0otv89p5"
      },
      "execution_count": 26,
      "outputs": []
    },
    {
      "cell_type": "code",
      "source": [
        "with tf.Session() as sess:\n",
        "  sess.run(init)\n",
        "  for i in range(epochs):\n",
        "\n",
        "    mini_batch_x, mini_batch_y = mnist_data.train.next_batch(batch_size)\n",
        "    mini_batch_val_x, mini_batch_val_y = mnist_data.validation.next_batch(batch_size)\n",
        "\n",
        "    sess.run(optimizer, feed_dict = {X : mini_batch_x, Y : mini_batch_y, keep_prob:1})\n",
        "    \n",
        "    if i%100 == 0:\n",
        "      mini_batch_loss, mini_batch_accuracy = sess.run([computed_loss, nn_accuracy], feed_dict = {X: mini_batch_x, Y: mini_batch_y, keep_prob:1})\n",
        "\n",
        "      mini_batch_val_loss, mini_batch_val_accuracy = sess.run([computed_loss, nn_accuracy], feed_dict = {X: mini_batch_x, Y: mini_batch_y, keep_prob:1})\n",
        "\n",
        "      print(\"Iterations : {0} , Train_loss = {1}, Train_Accuracy {2}, Val_loss {3}, Val_accuracy {4}\".format(i, mini_batch_loss, mini_batch_accuracy, mini_batch_val_loss, mini_batch_val_accuracy))\n",
        "\n",
        "  print(\"Optimization Finished\")\n",
        "  test_accuracy = sess.run(nn_accuracy, feed_dict = {X:mnist_data.test.images, Y:mnist_data.test.labels, keep_prob:1.0})\n",
        "  print(\"Testing accuracy is {0}\".format(test_accuracy))\n",
        "\n",
        "  saver_path = saver.save(sess, \"./model/my_model.ckpt\")"
      ],
      "metadata": {
        "colab": {
          "base_uri": "https://localhost:8080/"
        },
        "id": "G08mE66I8-Y0",
        "outputId": "8c9dfa6b-f86f-422b-fd68-d8e01c7cf59a"
      },
      "execution_count": 27,
      "outputs": [
        {
          "output_type": "stream",
          "name": "stdout",
          "text": [
            "Iterations : 0 , Train_loss = 47.46122741699219, Train_Accuracy 0.046875, Val_loss 47.46122741699219, Val_accuracy 0.046875\n",
            "Iterations : 100 , Train_loss = 9.018322944641113, Train_Accuracy 0.4140625, Val_loss 9.018322944641113, Val_accuracy 0.4140625\n",
            "Iterations : 200 , Train_loss = 4.905367851257324, Train_Accuracy 0.5546875, Val_loss 4.905367851257324, Val_accuracy 0.5546875\n",
            "Iterations : 300 , Train_loss = 4.004587173461914, Train_Accuracy 0.6328125, Val_loss 4.004587173461914, Val_accuracy 0.6328125\n",
            "Iterations : 400 , Train_loss = 3.0868210792541504, Train_Accuracy 0.625, Val_loss 3.0868210792541504, Val_accuracy 0.625\n",
            "Iterations : 500 , Train_loss = 2.5244083404541016, Train_Accuracy 0.765625, Val_loss 2.5244083404541016, Val_accuracy 0.765625\n",
            "Iterations : 600 , Train_loss = 2.6519851684570312, Train_Accuracy 0.7578125, Val_loss 2.6519851684570312, Val_accuracy 0.7578125\n",
            "Iterations : 700 , Train_loss = 2.0369620323181152, Train_Accuracy 0.8046875, Val_loss 2.0369620323181152, Val_accuracy 0.8046875\n",
            "Iterations : 800 , Train_loss = 3.1998298168182373, Train_Accuracy 0.6953125, Val_loss 3.1998298168182373, Val_accuracy 0.6953125\n",
            "Iterations : 900 , Train_loss = 2.144110918045044, Train_Accuracy 0.8125, Val_loss 2.144110918045044, Val_accuracy 0.8125\n",
            "Iterations : 1000 , Train_loss = 2.8225109577178955, Train_Accuracy 0.7890625, Val_loss 2.8225109577178955, Val_accuracy 0.7890625\n",
            "Iterations : 1100 , Train_loss = 1.7493655681610107, Train_Accuracy 0.8125, Val_loss 1.7493655681610107, Val_accuracy 0.8125\n",
            "Iterations : 1200 , Train_loss = 2.6198010444641113, Train_Accuracy 0.75, Val_loss 2.6198010444641113, Val_accuracy 0.75\n",
            "Iterations : 1300 , Train_loss = 1.4006693363189697, Train_Accuracy 0.8046875, Val_loss 1.4006693363189697, Val_accuracy 0.8046875\n",
            "Iterations : 1400 , Train_loss = 2.5487289428710938, Train_Accuracy 0.78125, Val_loss 2.5487289428710938, Val_accuracy 0.78125\n",
            "Iterations : 1500 , Train_loss = 1.618861198425293, Train_Accuracy 0.828125, Val_loss 1.618861198425293, Val_accuracy 0.828125\n",
            "Iterations : 1600 , Train_loss = 2.0286779403686523, Train_Accuracy 0.8203125, Val_loss 2.0286779403686523, Val_accuracy 0.8203125\n",
            "Iterations : 1700 , Train_loss = 1.460183024406433, Train_Accuracy 0.828125, Val_loss 1.460183024406433, Val_accuracy 0.828125\n",
            "Iterations : 1800 , Train_loss = 1.8868865966796875, Train_Accuracy 0.8046875, Val_loss 1.8868865966796875, Val_accuracy 0.8046875\n",
            "Iterations : 1900 , Train_loss = 1.6138861179351807, Train_Accuracy 0.796875, Val_loss 1.6138861179351807, Val_accuracy 0.796875\n",
            "Iterations : 2000 , Train_loss = 0.739620566368103, Train_Accuracy 0.8828125, Val_loss 0.739620566368103, Val_accuracy 0.8828125\n",
            "Iterations : 2100 , Train_loss = 1.738321304321289, Train_Accuracy 0.8515625, Val_loss 1.738321304321289, Val_accuracy 0.8515625\n",
            "Iterations : 2200 , Train_loss = 1.0789780616760254, Train_Accuracy 0.90625, Val_loss 1.0789780616760254, Val_accuracy 0.90625\n",
            "Iterations : 2300 , Train_loss = 0.8229991793632507, Train_Accuracy 0.8984375, Val_loss 0.8229991793632507, Val_accuracy 0.8984375\n",
            "Iterations : 2400 , Train_loss = 1.4963462352752686, Train_Accuracy 0.8359375, Val_loss 1.4963462352752686, Val_accuracy 0.8359375\n",
            "Iterations : 2500 , Train_loss = 1.345876693725586, Train_Accuracy 0.859375, Val_loss 1.345876693725586, Val_accuracy 0.859375\n",
            "Iterations : 2600 , Train_loss = 1.4267306327819824, Train_Accuracy 0.8125, Val_loss 1.4267306327819824, Val_accuracy 0.8125\n",
            "Iterations : 2700 , Train_loss = 0.9946548938751221, Train_Accuracy 0.8671875, Val_loss 0.9946548938751221, Val_accuracy 0.8671875\n",
            "Iterations : 2800 , Train_loss = 1.5164176225662231, Train_Accuracy 0.890625, Val_loss 1.5164176225662231, Val_accuracy 0.890625\n",
            "Iterations : 2900 , Train_loss = 1.1258177757263184, Train_Accuracy 0.828125, Val_loss 1.1258177757263184, Val_accuracy 0.828125\n",
            "Optimization Finished\n",
            "Testing accuracy is 0.8528000116348267\n"
          ]
        }
      ]
    },
    {
      "cell_type": "code",
      "source": [
        "img = cv2.imread(\"7.jpg\")\n",
        "gray_image = cv2.cvtColor(img, cv2.COLOR_BGR2GRAY)\n",
        "rescaled_image = cv2.resize(gray_image, (28,28))\n",
        "plt.imshow(rescaled_image, cmap = 'gray')\n",
        "plt.show()\n",
        "rescaled_image.shape\n",
        "#test_image = rescaled_image.flatten()\n",
        "dum = rescaled_image.reshape(1,-1)/255\n",
        "dum.shape\n",
        "with tf.Session() as sess:\n",
        "  saver.restore(sess, \"./model/my_model.ckpt\")\n",
        "  Z = output_layer.eval(feed_dict = {X:dum, keep_prob:1.0})\n",
        "  y_pred = np.argmax(Z, axis = 1)\n",
        "  print(\"Prediction for test image is {0}\".format(y_pred))"
      ],
      "metadata": {
        "id": "nsyFaIwE9xbj"
      },
      "execution_count": null,
      "outputs": []
    },
    {
      "cell_type": "markdown",
      "source": [
        "# New Section"
      ],
      "metadata": {
        "id": "EACDvRI99-6T"
      }
    },
    {
      "cell_type": "code",
      "source": [
        "# This is the week_6 2nd session code"
      ],
      "metadata": {
        "id": "IgzuLG27-pZR"
      },
      "execution_count": 35,
      "outputs": []
    },
    {
      "cell_type": "code",
      "source": [
        "pip install tensorflow==1.15.5"
      ],
      "metadata": {
        "colab": {
          "base_uri": "https://localhost:8080/"
        },
        "id": "NDyfElKS-CUM",
        "outputId": "7e67134a-7443-47cb-b6d6-02c64a36ad37"
      },
      "execution_count": 30,
      "outputs": [
        {
          "output_type": "stream",
          "name": "stdout",
          "text": [
            "Looking in indexes: https://pypi.org/simple, https://us-python.pkg.dev/colab-wheels/public/simple/\n",
            "Requirement already satisfied: tensorflow==1.15.5 in /usr/local/lib/python3.7/dist-packages (1.15.5)\n",
            "Requirement already satisfied: absl-py>=0.7.0 in /usr/local/lib/python3.7/dist-packages (from tensorflow==1.15.5) (1.2.0)\n",
            "Requirement already satisfied: astor>=0.6.0 in /usr/local/lib/python3.7/dist-packages (from tensorflow==1.15.5) (0.8.1)\n",
            "Requirement already satisfied: termcolor>=1.1.0 in /usr/local/lib/python3.7/dist-packages (from tensorflow==1.15.5) (2.0.1)\n",
            "Requirement already satisfied: wheel>=0.26 in /usr/local/lib/python3.7/dist-packages (from tensorflow==1.15.5) (0.37.1)\n",
            "Requirement already satisfied: gast==0.2.2 in /usr/local/lib/python3.7/dist-packages (from tensorflow==1.15.5) (0.2.2)\n",
            "Requirement already satisfied: grpcio>=1.8.6 in /usr/local/lib/python3.7/dist-packages (from tensorflow==1.15.5) (1.49.1)\n",
            "Requirement already satisfied: google-pasta>=0.1.6 in /usr/local/lib/python3.7/dist-packages (from tensorflow==1.15.5) (0.2.0)\n",
            "Requirement already satisfied: opt-einsum>=2.3.2 in /usr/local/lib/python3.7/dist-packages (from tensorflow==1.15.5) (3.3.0)\n",
            "Requirement already satisfied: numpy<1.19.0,>=1.16.0 in /usr/local/lib/python3.7/dist-packages (from tensorflow==1.15.5) (1.18.5)\n",
            "Requirement already satisfied: protobuf>=3.6.1 in /usr/local/lib/python3.7/dist-packages (from tensorflow==1.15.5) (3.17.3)\n",
            "Requirement already satisfied: six>=1.10.0 in /usr/local/lib/python3.7/dist-packages (from tensorflow==1.15.5) (1.15.0)\n",
            "Requirement already satisfied: wrapt>=1.11.1 in /usr/local/lib/python3.7/dist-packages (from tensorflow==1.15.5) (1.14.1)\n",
            "Requirement already satisfied: tensorboard<1.16.0,>=1.15.0 in /usr/local/lib/python3.7/dist-packages (from tensorflow==1.15.5) (1.15.0)\n",
            "Requirement already satisfied: keras-preprocessing>=1.0.5 in /usr/local/lib/python3.7/dist-packages (from tensorflow==1.15.5) (1.1.2)\n",
            "Requirement already satisfied: tensorflow-estimator==1.15.1 in /usr/local/lib/python3.7/dist-packages (from tensorflow==1.15.5) (1.15.1)\n",
            "Requirement already satisfied: h5py<=2.10.0 in /usr/local/lib/python3.7/dist-packages (from tensorflow==1.15.5) (2.10.0)\n",
            "Requirement already satisfied: keras-applications>=1.0.8 in /usr/local/lib/python3.7/dist-packages (from tensorflow==1.15.5) (1.0.8)\n",
            "Requirement already satisfied: setuptools>=41.0.0 in /usr/local/lib/python3.7/dist-packages (from tensorboard<1.16.0,>=1.15.0->tensorflow==1.15.5) (57.4.0)\n",
            "Requirement already satisfied: markdown>=2.6.8 in /usr/local/lib/python3.7/dist-packages (from tensorboard<1.16.0,>=1.15.0->tensorflow==1.15.5) (3.4.1)\n",
            "Requirement already satisfied: werkzeug>=0.11.15 in /usr/local/lib/python3.7/dist-packages (from tensorboard<1.16.0,>=1.15.0->tensorflow==1.15.5) (1.0.1)\n",
            "Requirement already satisfied: importlib-metadata>=4.4 in /usr/local/lib/python3.7/dist-packages (from markdown>=2.6.8->tensorboard<1.16.0,>=1.15.0->tensorflow==1.15.5) (5.0.0)\n",
            "Requirement already satisfied: typing-extensions>=3.6.4 in /usr/local/lib/python3.7/dist-packages (from importlib-metadata>=4.4->markdown>=2.6.8->tensorboard<1.16.0,>=1.15.0->tensorflow==1.15.5) (4.1.1)\n",
            "Requirement already satisfied: zipp>=0.5 in /usr/local/lib/python3.7/dist-packages (from importlib-metadata>=4.4->markdown>=2.6.8->tensorboard<1.16.0,>=1.15.0->tensorflow==1.15.5) (3.9.0)\n"
          ]
        }
      ]
    },
    {
      "cell_type": "code",
      "source": [
        "import os\n",
        "import numpy as np \n",
        "import zipfile\n",
        "from urllib import request\n",
        "import matplotlib.pyplot as plt\n",
        "import matplotlib.image as mpimg\n",
        "import random\n",
        "import tensorflow as tf\n",
        "import cv2"
      ],
      "metadata": {
        "id": "luuEO4AT-HxE"
      },
      "execution_count": 33,
      "outputs": []
    },
    {
      "cell_type": "code",
      "source": [
        "img_database = np.loadtxt('fashion-mnist_train.csv', delimiter=',', skiprows=1)[:,1:]\n",
        "#looking at the shape of the file\n",
        "print(img_database.shape)\n",
        "\n",
        "\n",
        "total_num_images = (img_database.shape[0])"
      ],
      "metadata": {
        "colab": {
          "base_uri": "https://localhost:8080/"
        },
        "id": "ih8UyIHD-J9H",
        "outputId": "8dd75229-17ea-4593-db4c-4fd8f79a8a3e"
      },
      "execution_count": 38,
      "outputs": [
        {
          "output_type": "stream",
          "name": "stdout",
          "text": [
            "(60000, 784)\n"
          ]
        }
      ]
    },
    {
      "cell_type": "code",
      "source": [
        "n_input = 784 #Input image is of size 28 x 28\n",
        "hidden_layer_1 = 256\n",
        "hidden_layer_2 = 32\n",
        "hidden_layer_3 = 32\n",
        "hidden_layer_4 = 256\n",
        "output_layer = 784  #Same as the n_input dimension\n",
        "\n",
        "# Parameters\n",
        "learning_rate = 0.1\n",
        "epochs = 100\n",
        "batch_size = 100\n",
        "\n",
        "# Define the placeholders\n",
        "X = tf.placeholder(tf.float32, [None, n_input])\n",
        "Y = tf.placeholder(tf.float32, [None, output_layer])"
      ],
      "metadata": {
        "id": "v5B3PaJa-408"
      },
      "execution_count": 39,
      "outputs": []
    },
    {
      "cell_type": "code",
      "source": [
        "Weight_NN = {\"W1\": tf.Variable(tf.random_normal([n_input, hidden_layer_1])),\n",
        "             \"W2\": tf.Variable(tf.random_normal([hidden_layer_1, hidden_layer_2])),\n",
        "             \"W3\": tf.Variable(tf.random_normal([hidden_layer_2, hidden_layer_3])),\n",
        "             \"W4\": tf.Variable(tf.random_normal([hidden_layer_3, hidden_layer_4])),\n",
        "             \"W5\": tf.Variable(tf.random_normal([hidden_layer_4, output_layer]))\n",
        "             }\n",
        "Bias_NN = { \"B1\": tf.Variable(tf.random_normal([hidden_layer_1])),\n",
        "            \"B2\": tf.Variable(tf.random_normal([hidden_layer_2])),\n",
        "            \"B3\": tf.Variable(tf.random_normal([hidden_layer_3])),\n",
        "            \"B4\": tf.Variable(tf.random_normal([hidden_layer_4])),\n",
        "            \"B5\": tf.Variable(tf.random_normal([output_layer]))\n",
        "           }"
      ],
      "metadata": {
        "id": "FMoc9uCwBzSd"
      },
      "execution_count": 40,
      "outputs": []
    },
    {
      "cell_type": "code",
      "source": [
        "Z1 = tf.add(tf.matmul(X, Weight_NN[\"W1\"]), Bias_NN[\"B1\"])\n",
        "Z1_out = tf.nn.sigmoid(Z1)\n",
        "\n",
        "Z2 = tf.add(tf.matmul(Z1_out, Weight_NN[\"W2\"]), Bias_NN[\"B2\"])\n",
        "Z2_out = tf.nn.sigmoid(Z2)\n",
        "\n",
        "Z3 = tf.add(tf.matmul(Z2_out, Weight_NN[\"W3\"]), Bias_NN[\"B2\"])\n",
        "Z3_out = tf.nn.sigmoid(Z3)\n",
        "\n",
        "Z4 = tf.add(tf.matmul(Z3_out, Weight_NN[\"W4\"]), Bias_NN[\"B4\"])\n",
        "Z4_out = tf.nn.sigmoid(Z4)\n",
        "\n",
        "Z5 = tf.add(tf.matmul(Z4_out, Weight_NN[\"W5\"]), Bias_NN[\"B5\"])\n",
        "Z5_out = tf.nn.sigmoid(Z5)"
      ],
      "metadata": {
        "id": "BCPkoBuDB2xL"
      },
      "execution_count": 41,
      "outputs": []
    },
    {
      "cell_type": "code",
      "source": [
        "Z1 = tf.layers.dense(X, hidden_layer_1, activation = tf.nn.sigmoid)\n",
        "Z2 = tf.layers.dense(Z1, hidden_layer_2, activation = tf.nn.sigmoid)\n",
        "Z3 = tf.layers.dense(Z1, hidden_layer_3, activation = tf.nn.sigmoid)\n",
        "Z4 = tf.layers.dense(Z1, hidden_layer_4, activation = tf.nn.sigmoid)\n",
        "NN_output = tf.layers.dense(Z4, output_layer)"
      ],
      "metadata": {
        "colab": {
          "base_uri": "https://localhost:8080/"
        },
        "id": "9VfDLkIJB5ac",
        "outputId": "0fc58dc0-04ba-469f-f229-f87b4c5c10cb"
      },
      "execution_count": 42,
      "outputs": [
        {
          "output_type": "stream",
          "name": "stderr",
          "text": [
            "WARNING:tensorflow:From <ipython-input-42-0363ae5c8ae8>:1: dense (from tensorflow.python.layers.core) is deprecated and will be removed in a future version.\n",
            "Instructions for updating:\n",
            "Use keras.layers.Dense instead.\n",
            "WARNING:tensorflow:From /usr/local/lib/python3.7/dist-packages/tensorflow_core/python/layers/core.py:187: Layer.apply (from tensorflow.python.keras.engine.base_layer) is deprecated and will be removed in a future version.\n",
            "Instructions for updating:\n",
            "Please use `layer.__call__` method instead.\n"
          ]
        }
      ]
    },
    {
      "cell_type": "code",
      "source": [
        "np.random.shuffle(img_database)\n",
        "\n",
        "X_train = img_database\n",
        "\n",
        "# Normalize the dataset\n",
        "X_train = X_train\n",
        "\n",
        "# Create a noisy dataset\n",
        "X_train_noisy = X_train + 10* np.random.normal(0,1, size = X_train.shape)\n",
        "\n",
        "#Original image\n",
        "plt.imshow(X_train[0].reshape(28,28), cmap = 'gray')\n",
        "plt.show()\n",
        "\n",
        "#Noisy image\n",
        "plt.imshow(X_train_noisy[0].reshape(28,28), cmap = 'gray')\n",
        "plt.show()"
      ],
      "metadata": {
        "colab": {
          "base_uri": "https://localhost:8080/",
          "height": 513
        },
        "id": "Tl3X08GHB7v8",
        "outputId": "1dc46399-f2e5-4c8e-c6af-b9de12980616"
      },
      "execution_count": 43,
      "outputs": [
        {
          "output_type": "display_data",
          "data": {
            "text/plain": [
              "<Figure size 432x288 with 1 Axes>"
            ],
            "image/png": "[encoded data removed]"
          },
          "metadata": {
            "needs_background": "light"
          }
        },
        {
          "output_type": "display_data",
          "data": {
            "text/plain": [
              "<Figure size 432x288 with 1 Axes>"
            ],
            "image/png": "[encoded data removed]"
          },
          "metadata": {
            "needs_background": "light"
          }
        }
      ]
    },
    {
      "cell_type": "code",
      "source": [
        "#Define the metrics\n",
        "\n",
        "# The loss function\n",
        "computed_loss = tf.reduce_mean(tf.square(NN_output-Y))\n",
        "\n",
        "# Define the optimizer\n",
        "optimizer = tf.train.AdagradOptimizer(learning_rate).minimize(computed_loss)\n",
        "\n",
        "# Initialize the variables\n",
        "init = tf.global_variables_initializer()"
      ],
      "metadata": {
        "colab": {
          "base_uri": "https://localhost:8080/"
        },
        "id": "nLiFRfXWB-x0",
        "outputId": "be1ff371-3838-4abf-8a22-764de1a8f7fa"
      },
      "execution_count": 44,
      "outputs": [
        {
          "output_type": "stream",
          "name": "stderr",
          "text": [
            "WARNING:tensorflow:From /usr/local/lib/python3.7/dist-packages/tensorflow_core/python/training/adagrad.py:76: calling Constant.__init__ (from tensorflow.python.ops.init_ops) with dtype is deprecated and will be removed in a future version.\n",
            "Instructions for updating:\n",
            "Call initializer instance with the dtype argument instead of passing it to the constructor\n"
          ]
        }
      ]
    },
    {
      "cell_type": "code",
      "source": [
        "# Initialize the Session\n",
        "\n",
        "sess = tf.Session()\n",
        "sess.run(init)\n",
        "for epoch in range(epochs):\n",
        "  for i in range(int(total_num_images/batch_size)):\n",
        "    X_epoch = X_train[ i*batch_size : (i+1)*batch_size ]\n",
        "    X_noise_epoch = X_train_noisy[ i*batch_size : (i+1)*batch_size ]\n",
        "    _, loss = sess.run([optimizer, computed_loss], feed_dict = {X: X_noise_epoch, Y: X_epoch})\n",
        "  print('Epoch', epoch, '/', epochs, 'loss:', loss)\n",
        "\n",
        "# pick any image\n",
        "X_actual = X_train[:10]\n",
        "noisy_image = X_train_noisy[:10]\n",
        "\n",
        "# run it though the autoencoder\n",
        "denoised_image = sess.run(NN_output, feed_dict={X:noisy_image})"
      ],
      "metadata": {
        "colab": {
          "base_uri": "https://localhost:8080/"
        },
        "id": "ZD09OfP9CCG0",
        "outputId": "ff9ce656-5179-488d-92bd-d28a7a8739d2"
      },
      "execution_count": 45,
      "outputs": [
        {
          "output_type": "stream",
          "name": "stdout",
          "text": [
            "Epoch 0 / 100 loss: 4562.9985\n",
            "Epoch 1 / 100 loss: 4009.28\n",
            "Epoch 2 / 100 loss: 3835.4412\n",
            "Epoch 3 / 100 loss: 3798.336\n",
            "Epoch 4 / 100 loss: 3609.2297\n",
            "Epoch 5 / 100 loss: 3559.4915\n",
            "Epoch 6 / 100 loss: 3546.941\n",
            "Epoch 7 / 100 loss: 3414.0063\n",
            "Epoch 8 / 100 loss: 3358.784\n",
            "Epoch 9 / 100 loss: 3372.7915\n",
            "Epoch 10 / 100 loss: 3225.7725\n",
            "Epoch 11 / 100 loss: 3234.9502\n",
            "Epoch 12 / 100 loss: 3244.8818\n",
            "Epoch 13 / 100 loss: 3163.6392\n",
            "Epoch 14 / 100 loss: 3116.7024\n",
            "Epoch 15 / 100 loss: 3149.9736\n",
            "Epoch 16 / 100 loss: 3093.6108\n",
            "Epoch 17 / 100 loss: 3063.2422\n",
            "Epoch 18 / 100 loss: 3069.2207\n",
            "Epoch 19 / 100 loss: 3002.0876\n",
            "Epoch 20 / 100 loss: 3055.4404\n",
            "Epoch 21 / 100 loss: 3042.5334\n",
            "Epoch 22 / 100 loss: 3001.1475\n",
            "Epoch 23 / 100 loss: 3033.8528\n",
            "Epoch 24 / 100 loss: 3002.9927\n",
            "Epoch 25 / 100 loss: 3019.7886\n",
            "Epoch 26 / 100 loss: 3049.4307\n",
            "Epoch 27 / 100 loss: 2986.84\n",
            "Epoch 28 / 100 loss: 2974.7869\n",
            "Epoch 29 / 100 loss: 3004.59\n",
            "Epoch 30 / 100 loss: 3047.8228\n",
            "Epoch 31 / 100 loss: 2927.944\n",
            "Epoch 32 / 100 loss: 2990.3271\n",
            "Epoch 33 / 100 loss: 2938.1997\n",
            "Epoch 34 / 100 loss: 2949.695\n",
            "Epoch 35 / 100 loss: 2893.7478\n",
            "Epoch 36 / 100 loss: 2902.7368\n",
            "Epoch 37 / 100 loss: 2845.2793\n",
            "Epoch 38 / 100 loss: 2901.8225\n",
            "Epoch 39 / 100 loss: 2872.8337\n",
            "Epoch 40 / 100 loss: 2931.5535\n",
            "Epoch 41 / 100 loss: 2868.7534\n",
            "Epoch 42 / 100 loss: 2970.604\n",
            "Epoch 43 / 100 loss: 2877.752\n",
            "Epoch 44 / 100 loss: 2916.725\n",
            "Epoch 45 / 100 loss: 2893.0579\n",
            "Epoch 46 / 100 loss: 2896.8445\n",
            "Epoch 47 / 100 loss: 2906.2222\n",
            "Epoch 48 / 100 loss: 2862.183\n",
            "Epoch 49 / 100 loss: 2903.034\n",
            "Epoch 50 / 100 loss: 2924.4927\n",
            "Epoch 51 / 100 loss: 2831.2922\n",
            "Epoch 52 / 100 loss: 2879.7\n",
            "Epoch 53 / 100 loss: 2763.1975\n",
            "Epoch 54 / 100 loss: 2868.6445\n",
            "Epoch 55 / 100 loss: 2852.1624\n",
            "Epoch 56 / 100 loss: 2866.6052\n",
            "Epoch 57 / 100 loss: 2878.5059\n",
            "Epoch 58 / 100 loss: 2867.0208\n",
            "Epoch 59 / 100 loss: 2847.7842\n",
            "Epoch 60 / 100 loss: 2815.1914\n",
            "Epoch 61 / 100 loss: 2788.3762\n",
            "Epoch 62 / 100 loss: 2834.5347\n",
            "Epoch 63 / 100 loss: 2836.256\n",
            "Epoch 64 / 100 loss: 2805.3015\n",
            "Epoch 65 / 100 loss: 2856.625\n",
            "Epoch 66 / 100 loss: 2868.455\n",
            "Epoch 67 / 100 loss: 2823.6575\n",
            "Epoch 68 / 100 loss: 2771.9822\n",
            "Epoch 69 / 100 loss: 2885.35\n",
            "Epoch 70 / 100 loss: 2873.2825\n",
            "Epoch 71 / 100 loss: 2856.0115\n",
            "Epoch 72 / 100 loss: 2860.8364\n",
            "Epoch 73 / 100 loss: 2845.4392\n",
            "Epoch 74 / 100 loss: 2892.855\n",
            "Epoch 75 / 100 loss: 2860.5796\n",
            "Epoch 76 / 100 loss: 2758.63\n",
            "Epoch 77 / 100 loss: 2884.1167\n",
            "Epoch 78 / 100 loss: 2776.5503\n",
            "Epoch 79 / 100 loss: 2723.955\n",
            "Epoch 80 / 100 loss: 2752.5051\n",
            "Epoch 81 / 100 loss: 2801.4683\n",
            "Epoch 82 / 100 loss: 2761.9197\n",
            "Epoch 83 / 100 loss: 2852.2114\n",
            "Epoch 84 / 100 loss: 2788.991\n",
            "Epoch 85 / 100 loss: 2724.7583\n",
            "Epoch 86 / 100 loss: 2707.9924\n",
            "Epoch 87 / 100 loss: 2842.7783\n",
            "Epoch 88 / 100 loss: 2801.0112\n",
            "Epoch 89 / 100 loss: 2747.2842\n",
            "Epoch 90 / 100 loss: 2710.8667\n",
            "Epoch 91 / 100 loss: 2812.494\n",
            "Epoch 92 / 100 loss: 2849.7878\n",
            "Epoch 93 / 100 loss: 2784.2832\n",
            "Epoch 94 / 100 loss: 2794.1086\n",
            "Epoch 95 / 100 loss: 2804.6143\n",
            "Epoch 96 / 100 loss: 2729.7278\n",
            "Epoch 97 / 100 loss: 2823.6345\n",
            "Epoch 98 / 100 loss: 2764.1228\n",
            "Epoch 99 / 100 loss: 2707.1875\n"
          ]
        }
      ]
    },
    {
      "cell_type": "code",
      "source": [
        "# Another way of running session\n",
        "\n",
        "X_actual = X_train[20:30]\n",
        "noisy_image = X_train_noisy[20:30]\n",
        "with tf.Session() as sess:\n",
        "  sess.run(init)\n",
        "  for epoch in range(epochs):\n",
        "    for i in range(int(total_num_images/batch_size)):\n",
        "      X_epoch = X_train[ i*batch_size : (i*1)*batch_size ]\n",
        "      X_noise_epoch = X_train_noisy[i*batch_size : (i*1)*batch_size ]\n",
        "      _, loss = sess.run([optimizer, computed_loss], feed_dict={X: X_noise_epoch, Y: X_epoch})\n",
        "    print('Epoch', epoch, '/', epochs, 'loss:', loss)\n",
        "  denoised_image = sess.run(NN_output, feed_dict = {X:noisy_image})\n",
        "\n",
        "#pick any image\n",
        "  \n",
        "\n",
        "# print the original image \n",
        "fig, axes = plt.subplots(nrows=3, ncols=10, sharex=True, sharey=True, figsize=(20,4))\n",
        "for images, row in zip([X_actual, noisy_image, denoised_image], axes):\n",
        "    for img, ax in zip(images,row):\n",
        "        ax.imshow(img.reshape((28,28)), cmap='gray')\n",
        "        ax.get_xaxis().set_visible(False)\n",
        "        ax.get_yaxis().set_visible(False)\n",
        "\n",
        "fig.tight_layout(pad=0.1)"
      ],
      "metadata": {
        "colab": {
          "base_uri": "https://localhost:8080/",
          "height": 1000
        },
        "id": "dryXo_9XCFUl",
        "outputId": "3722dacc-380e-4aaa-99fa-10062c7c6bc3"
      },
      "execution_count": 46,
      "outputs": [
        {
          "output_type": "stream",
          "name": "stdout",
          "text": [
            "Epoch 0 / 100 loss: nan\n",
            "Epoch 1 / 100 loss: nan\n",
            "Epoch 2 / 100 loss: nan\n",
            "Epoch 3 / 100 loss: nan\n",
            "Epoch 4 / 100 loss: nan\n",
            "Epoch 5 / 100 loss: nan\n",
            "Epoch 6 / 100 loss: nan\n",
            "Epoch 7 / 100 loss: nan\n",
            "Epoch 8 / 100 loss: nan\n",
            "Epoch 9 / 100 loss: nan\n",
            "Epoch 10 / 100 loss: nan\n",
            "Epoch 11 / 100 loss: nan\n",
            "Epoch 12 / 100 loss: nan\n",
            "Epoch 13 / 100 loss: nan\n",
            "Epoch 14 / 100 loss: nan\n",
            "Epoch 15 / 100 loss: nan\n",
            "Epoch 16 / 100 loss: nan\n",
            "Epoch 17 / 100 loss: nan\n",
            "Epoch 18 / 100 loss: nan\n",
            "Epoch 19 / 100 loss: nan\n",
            "Epoch 20 / 100 loss: nan\n",
            "Epoch 21 / 100 loss: nan\n",
            "Epoch 22 / 100 loss: nan\n",
            "Epoch 23 / 100 loss: nan\n",
            "Epoch 24 / 100 loss: nan\n",
            "Epoch 25 / 100 loss: nan\n",
            "Epoch 26 / 100 loss: nan\n",
            "Epoch 27 / 100 loss: nan\n",
            "Epoch 28 / 100 loss: nan\n",
            "Epoch 29 / 100 loss: nan\n",
            "Epoch 30 / 100 loss: nan\n",
            "Epoch 31 / 100 loss: nan\n",
            "Epoch 32 / 100 loss: nan\n",
            "Epoch 33 / 100 loss: nan\n",
            "Epoch 34 / 100 loss: nan\n",
            "Epoch 35 / 100 loss: nan\n",
            "Epoch 36 / 100 loss: nan\n",
            "Epoch 37 / 100 loss: nan\n",
            "Epoch 38 / 100 loss: nan\n",
            "Epoch 39 / 100 loss: nan\n",
            "Epoch 40 / 100 loss: nan\n",
            "Epoch 41 / 100 loss: nan\n",
            "Epoch 42 / 100 loss: nan\n",
            "Epoch 43 / 100 loss: nan\n",
            "Epoch 44 / 100 loss: nan\n",
            "Epoch 45 / 100 loss: nan\n",
            "Epoch 46 / 100 loss: nan\n",
            "Epoch 47 / 100 loss: nan\n",
            "Epoch 48 / 100 loss: nan\n",
            "Epoch 49 / 100 loss: nan\n",
            "Epoch 50 / 100 loss: nan\n",
            "Epoch 51 / 100 loss: nan\n",
            "Epoch 52 / 100 loss: nan\n",
            "Epoch 53 / 100 loss: nan\n",
            "Epoch 54 / 100 loss: nan\n",
            "Epoch 55 / 100 loss: nan\n",
            "Epoch 56 / 100 loss: nan\n",
            "Epoch 57 / 100 loss: nan\n",
            "Epoch 58 / 100 loss: nan\n",
            "Epoch 59 / 100 loss: nan\n",
            "Epoch 60 / 100 loss: nan\n",
            "Epoch 61 / 100 loss: nan\n",
            "Epoch 62 / 100 loss: nan\n",
            "Epoch 63 / 100 loss: nan\n",
            "Epoch 64 / 100 loss: nan\n",
            "Epoch 65 / 100 loss: nan\n",
            "Epoch 66 / 100 loss: nan\n",
            "Epoch 67 / 100 loss: nan\n",
            "Epoch 68 / 100 loss: nan\n",
            "Epoch 69 / 100 loss: nan\n",
            "Epoch 70 / 100 loss: nan\n",
            "Epoch 71 / 100 loss: nan\n",
            "Epoch 72 / 100 loss: nan\n",
            "Epoch 73 / 100 loss: nan\n",
            "Epoch 74 / 100 loss: nan\n",
            "Epoch 75 / 100 loss: nan\n",
            "Epoch 76 / 100 loss: nan\n",
            "Epoch 77 / 100 loss: nan\n",
            "Epoch 78 / 100 loss: nan\n",
            "Epoch 79 / 100 loss: nan\n",
            "Epoch 80 / 100 loss: nan\n",
            "Epoch 81 / 100 loss: nan\n",
            "Epoch 82 / 100 loss: nan\n",
            "Epoch 83 / 100 loss: nan\n",
            "Epoch 84 / 100 loss: nan\n",
            "Epoch 85 / 100 loss: nan\n",
            "Epoch 86 / 100 loss: nan\n",
            "Epoch 87 / 100 loss: nan\n",
            "Epoch 88 / 100 loss: nan\n",
            "Epoch 89 / 100 loss: nan\n",
            "Epoch 90 / 100 loss: nan\n",
            "Epoch 91 / 100 loss: nan\n",
            "Epoch 92 / 100 loss: nan\n",
            "Epoch 93 / 100 loss: nan\n",
            "Epoch 94 / 100 loss: nan\n",
            "Epoch 95 / 100 loss: nan\n",
            "Epoch 96 / 100 loss: nan\n",
            "Epoch 97 / 100 loss: nan\n",
            "Epoch 98 / 100 loss: nan\n",
            "Epoch 99 / 100 loss: nan\n"
          ]
        },
        {
          "output_type": "display_data",
          "data": {
            "text/plain": [
              "<Figure size 1440x288 with 30 Axes>"
            ],
            "image/png": "[encoded data removed]"
          },
          "metadata": {
            "needs_background": "light"
          }
        }
      ]
    }
  ]
}