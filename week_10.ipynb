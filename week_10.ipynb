{
  "nbformat": 4,
  "nbformat_minor": 0,
  "metadata": {
    "colab": {
      "provenance": []
    },
    "kernelspec": {
      "name": "python3",
      "display_name": "Python 3"
    },
    "language_info": {
      "name": "python"
    },
    "accelerator": "TPU",
    "gpuClass": "standard"
  },
  "cells": [
    {
      "cell_type": "code",
      "execution_count": 14,
      "metadata": {
        "id": "KZyIPuFA76Dz"
      },
      "outputs": [],
      "source": [
        "import torch\n",
        "import torchvision\n",
        "from torchvision import transforms\n",
        "from PIL import Image\n",
        "\n",
        "device = torch.device(\"cuda:0\" if torch.cuda.is_available() else \"cpu\")"
      ]
    },
    {
      "cell_type": "code",
      "source": [
        "# Load and preprocess image\n",
        "image = Image.open('/content/dog.jpg')\n",
        "preprocess = transforms.Compose([\n",
        "    transforms.Resize((224,224)),\n",
        "    transforms.ToTensor(),\n",
        "    transforms.Normalize(mean=[0.485, 0.456, 0.406], std=[0.229, 0.224, 0.225])])\n",
        "# parameteres are documents at pytorcg.org\n",
        "input_tensor = preprocess(image)\n",
        "\n",
        "# Convert to 4-dimensional tensor\n",
        "inputs = input_tensor.unsqueeze(0)"
      ],
      "metadata": {
        "id": "-ay-t9u3CFqt"
      },
      "execution_count": 30,
      "outputs": []
    },
    {
      "cell_type": "markdown",
      "source": [
        "# 새 섹션"
      ],
      "metadata": {
        "id": "trnURORPHutN"
      }
    },
    {
      "cell_type": "code",
      "source": [
        "# Load the pre trained model\n",
        "model=torchvision.models.resnet50(weights=torchvision.models.ResNet50_Weights.IMAGENET1K_V1)\n",
        "model.eval()\n",
        "\n",
        "# Transfer model to GPU.\n",
        "model.to(device)\n",
        "\n",
        "# Do prediction.\n",
        "inputs = inputs.to(device)\n",
        "with torch.no_grad():\n",
        "  outputs = model (inputs)\n",
        "\n",
        "# Convert to probabilities, since final SoftMax activation is not in pretrained model.\n",
        "probabilities = torch.nn. functional.softmax(outputs[0], dim=0)\n",
        "\n",
        "# Print class ID for top 5 predictions.\n",
        "_, indices = torch.sort (probabilities, descending=True)\n",
        "# for i in range(0, 5):\n",
        "#   print(\"ImageNet class:\", indices[i].item(), ', probability = %4.3f' %probabilities[indices[i]].item())\n",
        "\n",
        "for i in range(0,5):\n",
        "  print('ImageNet class:', indices[i].item(), ', probability = %4.3f' % probabilities[indices[i]].item())\n",
        "# Show image\n",
        "image.show()"
      ],
      "metadata": {
        "colab": {
          "base_uri": "https://localhost:8080/"
        },
        "id": "hkrAruE3OnS1",
        "outputId": "b7fcdae5-1c09-4fe0-97c3-1dcd1dc34a9f"
      },
      "execution_count": 31,
      "outputs": [
        {
          "output_type": "stream",
          "name": "stdout",
          "text": [
            "ImageNet class: 227 , probability = 0.944\n",
            "ImageNet class: 235 , probability = 0.033\n",
            "ImageNet class: 225 , probability = 0.010\n",
            "ImageNet class: 264 , probability = 0.005\n",
            "ImageNet class: 273 , probability = 0.002\n"
          ]
        }
      ]
    }
  ]
}
